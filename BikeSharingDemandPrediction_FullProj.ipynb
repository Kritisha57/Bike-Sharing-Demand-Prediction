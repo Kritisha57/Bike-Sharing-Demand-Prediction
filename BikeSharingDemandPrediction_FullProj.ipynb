{
  "nbformat": 4,
  "nbformat_minor": 0,
  "metadata": {
    "kernelspec": {
      "display_name": "Python 3",
      "language": "python",
      "name": "python3"
    },
    "language_info": {
      "codemirror_mode": {
        "name": "ipython",
        "version": 3
      },
      "file_extension": ".py",
      "mimetype": "text/x-python",
      "name": "python",
      "nbconvert_exporter": "python",
      "pygments_lexer": "ipython3",
      "version": "3.6.6"
    },
    "colab": {
      "provenance": [],
      "collapsed_sections": []
    }
  },
  "cells": [
    {
      "cell_type": "markdown",
      "metadata": {
        "id": "tOGC-qoyhJeX"
      },
      "source": [
        "# <b><u> Project Title : Seoul Bike Sharing Demand Prediction </u></b>"
      ]
    },
    {
      "cell_type": "markdown",
      "metadata": {
        "id": "Y06xIdG26kRF"
      },
      "source": [
        "## <b> Problem Description </b>\n",
        "\n",
        "### Currently Rental bikes are introduced in many urban cities for the enhancement of mobility comfort. It is important to make the rental bike available and accessible to the public at the right time as it lessens the waiting time. Eventually, providing the city with a stable supply of rental bikes becomes a major concern. The crucial part is the prediction of bike count required at each hour for the stable supply of rental bikes.\n"
      ]
    },
    {
      "cell_type": "markdown",
      "metadata": {
        "id": "AlLxAtlziMbP"
      },
      "source": [
        "## <b> Data Description </b>\n",
        "\n",
        "### <b> The dataset contains weather information (Temperature, Humidity, Windspeed, Visibility, Dewpoint, Solar radiation, Snowfall, Rainfall), the number of bikes rented per hour and date information.</b>\n",
        "\n",
        "\n",
        "### <b>Attribute Information: </b>\n",
        "\n",
        "* ### Date : year-month-day\n",
        "* ### Rented Bike count - Count of bikes rented at each hour\n",
        "* ### Hour - Hour of he day\n",
        "* ### Temperature-Temperature in Celsius\n",
        "* ### Humidity - %\n",
        "* ### Windspeed - m/s\n",
        "* ### Visibility - 10m\n",
        "* ### Dew point temperature - Celsius\n",
        "* ### Solar radiation - MJ/m2\n",
        "* ### Rainfall - mm\n",
        "* ### Snowfall - cm\n",
        "* ### Seasons - Winter, Spring, Summer, Autumn\n",
        "* ### Holiday - Holiday/No holiday\n",
        "* ### Functional Day - NoFunc(Non Functional Hours), Fun(Functional hours)"
      ]
    },
    {
      "cell_type": "markdown",
      "source": [
        "**Importing libraries for EDA**"
      ],
      "metadata": {
        "id": "3b9Yhcn62ZgL"
      }
    },
    {
      "cell_type": "code",
      "source": [
        "#importing the required modules and packages\n",
        "import pandas as pd\n",
        "import numpy as np\n",
        "import seaborn as sns\n",
        "import matplotlib.pyplot as plt\n",
        "import warnings\n",
        "warnings.filterwarnings(\"ignore\")\n",
        "%matplotlib inline"
      ],
      "metadata": {
        "id": "He2EIaz_AtiE"
      },
      "execution_count": 136,
      "outputs": []
    },
    {
      "cell_type": "markdown",
      "source": [
        "##**Loading the dataset**"
      ],
      "metadata": {
        "id": "dAk0j-cSBCh2"
      }
    },
    {
      "cell_type": "code",
      "source": [
        "from google.colab import drive\n",
        "drive.mount('/content/drive')"
      ],
      "metadata": {
        "colab": {
          "base_uri": "https://localhost:8080/"
        },
        "id": "OIqVpnEzBGHl",
        "outputId": "f3776f5f-c961-451a-8731-68cf69f61b54"
      },
      "execution_count": 137,
      "outputs": [
        {
          "output_type": "stream",
          "name": "stdout",
          "text": [
            "Drive already mounted at /content/drive; to attempt to forcibly remount, call drive.mount(\"/content/drive\", force_remount=True).\n"
          ]
        }
      ]
    },
    {
      "cell_type": "code",
      "source": [
        "bikeData=pd.read_csv('/content/drive/MyDrive/Copy of SeoulBikeData.csv',encoding='ISO-8859-1')"
      ],
      "metadata": {
        "id": "yj-RlRnaBGSk"
      },
      "execution_count": 138,
      "outputs": []
    },
    {
      "cell_type": "markdown",
      "source": [
        "##**Performing Exploratory Data Analysis**"
      ],
      "metadata": {
        "id": "jBlNhmj6EKrS"
      }
    },
    {
      "cell_type": "code",
      "source": [
        "#Taking a look at the coloumns and first few rows gives an idea about the actual data\n",
        "bikeData.head()"
      ],
      "metadata": {
        "colab": {
          "base_uri": "https://localhost:8080/",
          "height": 372
        },
        "id": "vdvpr_z6ETDb",
        "outputId": "4826bc97-e4cd-4d4e-85ad-36955d41b578"
      },
      "execution_count": 139,
      "outputs": [
        {
          "output_type": "execute_result",
          "data": {
            "text/plain": [
              "         Date  Rented Bike Count  Hour  Temperature(°C)  Humidity(%)  \\\n",
              "0  01/12/2017                254     0             -5.2           37   \n",
              "1  01/12/2017                204     1             -5.5           38   \n",
              "2  01/12/2017                173     2             -6.0           39   \n",
              "3  01/12/2017                107     3             -6.2           40   \n",
              "4  01/12/2017                 78     4             -6.0           36   \n",
              "\n",
              "   Wind speed (m/s)  Visibility (10m)  Dew point temperature(°C)  \\\n",
              "0               2.2              2000                      -17.6   \n",
              "1               0.8              2000                      -17.6   \n",
              "2               1.0              2000                      -17.7   \n",
              "3               0.9              2000                      -17.6   \n",
              "4               2.3              2000                      -18.6   \n",
              "\n",
              "   Solar Radiation (MJ/m2)  Rainfall(mm)  Snowfall (cm) Seasons     Holiday  \\\n",
              "0                      0.0           0.0            0.0  Winter  No Holiday   \n",
              "1                      0.0           0.0            0.0  Winter  No Holiday   \n",
              "2                      0.0           0.0            0.0  Winter  No Holiday   \n",
              "3                      0.0           0.0            0.0  Winter  No Holiday   \n",
              "4                      0.0           0.0            0.0  Winter  No Holiday   \n",
              "\n",
              "  Functioning Day  \n",
              "0             Yes  \n",
              "1             Yes  \n",
              "2             Yes  \n",
              "3             Yes  \n",
              "4             Yes  "
            ],
            "text/html": [
              "\n",
              "  <div id=\"df-53c3b5ee-3b55-4f8b-b177-63826ab4bbca\">\n",
              "    <div class=\"colab-df-container\">\n",
              "      <div>\n",
              "<style scoped>\n",
              "    .dataframe tbody tr th:only-of-type {\n",
              "        vertical-align: middle;\n",
              "    }\n",
              "\n",
              "    .dataframe tbody tr th {\n",
              "        vertical-align: top;\n",
              "    }\n",
              "\n",
              "    .dataframe thead th {\n",
              "        text-align: right;\n",
              "    }\n",
              "</style>\n",
              "<table border=\"1\" class=\"dataframe\">\n",
              "  <thead>\n",
              "    <tr style=\"text-align: right;\">\n",
              "      <th></th>\n",
              "      <th>Date</th>\n",
              "      <th>Rented Bike Count</th>\n",
              "      <th>Hour</th>\n",
              "      <th>Temperature(°C)</th>\n",
              "      <th>Humidity(%)</th>\n",
              "      <th>Wind speed (m/s)</th>\n",
              "      <th>Visibility (10m)</th>\n",
              "      <th>Dew point temperature(°C)</th>\n",
              "      <th>Solar Radiation (MJ/m2)</th>\n",
              "      <th>Rainfall(mm)</th>\n",
              "      <th>Snowfall (cm)</th>\n",
              "      <th>Seasons</th>\n",
              "      <th>Holiday</th>\n",
              "      <th>Functioning Day</th>\n",
              "    </tr>\n",
              "  </thead>\n",
              "  <tbody>\n",
              "    <tr>\n",
              "      <th>0</th>\n",
              "      <td>01/12/2017</td>\n",
              "      <td>254</td>\n",
              "      <td>0</td>\n",
              "      <td>-5.2</td>\n",
              "      <td>37</td>\n",
              "      <td>2.2</td>\n",
              "      <td>2000</td>\n",
              "      <td>-17.6</td>\n",
              "      <td>0.0</td>\n",
              "      <td>0.0</td>\n",
              "      <td>0.0</td>\n",
              "      <td>Winter</td>\n",
              "      <td>No Holiday</td>\n",
              "      <td>Yes</td>\n",
              "    </tr>\n",
              "    <tr>\n",
              "      <th>1</th>\n",
              "      <td>01/12/2017</td>\n",
              "      <td>204</td>\n",
              "      <td>1</td>\n",
              "      <td>-5.5</td>\n",
              "      <td>38</td>\n",
              "      <td>0.8</td>\n",
              "      <td>2000</td>\n",
              "      <td>-17.6</td>\n",
              "      <td>0.0</td>\n",
              "      <td>0.0</td>\n",
              "      <td>0.0</td>\n",
              "      <td>Winter</td>\n",
              "      <td>No Holiday</td>\n",
              "      <td>Yes</td>\n",
              "    </tr>\n",
              "    <tr>\n",
              "      <th>2</th>\n",
              "      <td>01/12/2017</td>\n",
              "      <td>173</td>\n",
              "      <td>2</td>\n",
              "      <td>-6.0</td>\n",
              "      <td>39</td>\n",
              "      <td>1.0</td>\n",
              "      <td>2000</td>\n",
              "      <td>-17.7</td>\n",
              "      <td>0.0</td>\n",
              "      <td>0.0</td>\n",
              "      <td>0.0</td>\n",
              "      <td>Winter</td>\n",
              "      <td>No Holiday</td>\n",
              "      <td>Yes</td>\n",
              "    </tr>\n",
              "    <tr>\n",
              "      <th>3</th>\n",
              "      <td>01/12/2017</td>\n",
              "      <td>107</td>\n",
              "      <td>3</td>\n",
              "      <td>-6.2</td>\n",
              "      <td>40</td>\n",
              "      <td>0.9</td>\n",
              "      <td>2000</td>\n",
              "      <td>-17.6</td>\n",
              "      <td>0.0</td>\n",
              "      <td>0.0</td>\n",
              "      <td>0.0</td>\n",
              "      <td>Winter</td>\n",
              "      <td>No Holiday</td>\n",
              "      <td>Yes</td>\n",
              "    </tr>\n",
              "    <tr>\n",
              "      <th>4</th>\n",
              "      <td>01/12/2017</td>\n",
              "      <td>78</td>\n",
              "      <td>4</td>\n",
              "      <td>-6.0</td>\n",
              "      <td>36</td>\n",
              "      <td>2.3</td>\n",
              "      <td>2000</td>\n",
              "      <td>-18.6</td>\n",
              "      <td>0.0</td>\n",
              "      <td>0.0</td>\n",
              "      <td>0.0</td>\n",
              "      <td>Winter</td>\n",
              "      <td>No Holiday</td>\n",
              "      <td>Yes</td>\n",
              "    </tr>\n",
              "  </tbody>\n",
              "</table>\n",
              "</div>\n",
              "      <button class=\"colab-df-convert\" onclick=\"convertToInteractive('df-53c3b5ee-3b55-4f8b-b177-63826ab4bbca')\"\n",
              "              title=\"Convert this dataframe to an interactive table.\"\n",
              "              style=\"display:none;\">\n",
              "        \n",
              "  <svg xmlns=\"http://www.w3.org/2000/svg\" height=\"24px\"viewBox=\"0 0 24 24\"\n",
              "       width=\"24px\">\n",
              "    <path d=\"M0 0h24v24H0V0z\" fill=\"none\"/>\n",
              "    <path d=\"M18.56 5.44l.94 2.06.94-2.06 2.06-.94-2.06-.94-.94-2.06-.94 2.06-2.06.94zm-11 1L8.5 8.5l.94-2.06 2.06-.94-2.06-.94L8.5 2.5l-.94 2.06-2.06.94zm10 10l.94 2.06.94-2.06 2.06-.94-2.06-.94-.94-2.06-.94 2.06-2.06.94z\"/><path d=\"M17.41 7.96l-1.37-1.37c-.4-.4-.92-.59-1.43-.59-.52 0-1.04.2-1.43.59L10.3 9.45l-7.72 7.72c-.78.78-.78 2.05 0 2.83L4 21.41c.39.39.9.59 1.41.59.51 0 1.02-.2 1.41-.59l7.78-7.78 2.81-2.81c.8-.78.8-2.07 0-2.86zM5.41 20L4 18.59l7.72-7.72 1.47 1.35L5.41 20z\"/>\n",
              "  </svg>\n",
              "      </button>\n",
              "      \n",
              "  <style>\n",
              "    .colab-df-container {\n",
              "      display:flex;\n",
              "      flex-wrap:wrap;\n",
              "      gap: 12px;\n",
              "    }\n",
              "\n",
              "    .colab-df-convert {\n",
              "      background-color: #E8F0FE;\n",
              "      border: none;\n",
              "      border-radius: 50%;\n",
              "      cursor: pointer;\n",
              "      display: none;\n",
              "      fill: #1967D2;\n",
              "      height: 32px;\n",
              "      padding: 0 0 0 0;\n",
              "      width: 32px;\n",
              "    }\n",
              "\n",
              "    .colab-df-convert:hover {\n",
              "      background-color: #E2EBFA;\n",
              "      box-shadow: 0px 1px 2px rgba(60, 64, 67, 0.3), 0px 1px 3px 1px rgba(60, 64, 67, 0.15);\n",
              "      fill: #174EA6;\n",
              "    }\n",
              "\n",
              "    [theme=dark] .colab-df-convert {\n",
              "      background-color: #3B4455;\n",
              "      fill: #D2E3FC;\n",
              "    }\n",
              "\n",
              "    [theme=dark] .colab-df-convert:hover {\n",
              "      background-color: #434B5C;\n",
              "      box-shadow: 0px 1px 3px 1px rgba(0, 0, 0, 0.15);\n",
              "      filter: drop-shadow(0px 1px 2px rgba(0, 0, 0, 0.3));\n",
              "      fill: #FFFFFF;\n",
              "    }\n",
              "  </style>\n",
              "\n",
              "      <script>\n",
              "        const buttonEl =\n",
              "          document.querySelector('#df-53c3b5ee-3b55-4f8b-b177-63826ab4bbca button.colab-df-convert');\n",
              "        buttonEl.style.display =\n",
              "          google.colab.kernel.accessAllowed ? 'block' : 'none';\n",
              "\n",
              "        async function convertToInteractive(key) {\n",
              "          const element = document.querySelector('#df-53c3b5ee-3b55-4f8b-b177-63826ab4bbca');\n",
              "          const dataTable =\n",
              "            await google.colab.kernel.invokeFunction('convertToInteractive',\n",
              "                                                     [key], {});\n",
              "          if (!dataTable) return;\n",
              "\n",
              "          const docLinkHtml = 'Like what you see? Visit the ' +\n",
              "            '<a target=\"_blank\" href=https://colab.research.google.com/notebooks/data_table.ipynb>data table notebook</a>'\n",
              "            + ' to learn more about interactive tables.';\n",
              "          element.innerHTML = '';\n",
              "          dataTable['output_type'] = 'display_data';\n",
              "          await google.colab.output.renderOutput(dataTable, element);\n",
              "          const docLink = document.createElement('div');\n",
              "          docLink.innerHTML = docLinkHtml;\n",
              "          element.appendChild(docLink);\n",
              "        }\n",
              "      </script>\n",
              "    </div>\n",
              "  </div>\n",
              "  "
            ]
          },
          "metadata": {},
          "execution_count": 139
        }
      ]
    },
    {
      "cell_type": "code",
      "source": [
        "#Exploring the columns in our data\n",
        "bikeData.columns"
      ],
      "metadata": {
        "colab": {
          "base_uri": "https://localhost:8080/"
        },
        "id": "RfSOboESGZGN",
        "outputId": "a7f6c141-ff45-44b6-f9c1-89a8b99d36e9"
      },
      "execution_count": 140,
      "outputs": [
        {
          "output_type": "execute_result",
          "data": {
            "text/plain": [
              "Index(['Date', 'Rented Bike Count', 'Hour', 'Temperature(°C)', 'Humidity(%)',\n",
              "       'Wind speed (m/s)', 'Visibility (10m)', 'Dew point temperature(°C)',\n",
              "       'Solar Radiation (MJ/m2)', 'Rainfall(mm)', 'Snowfall (cm)', 'Seasons',\n",
              "       'Holiday', 'Functioning Day'],\n",
              "      dtype='object')"
            ]
          },
          "metadata": {},
          "execution_count": 140
        }
      ]
    },
    {
      "cell_type": "code",
      "source": [
        "bikeData.shape"
      ],
      "metadata": {
        "colab": {
          "base_uri": "https://localhost:8080/"
        },
        "id": "oSFpVTYuHLBI",
        "outputId": "1f0c75d7-717e-4b65-c138-6a7f5401c2f3"
      },
      "execution_count": 141,
      "outputs": [
        {
          "output_type": "execute_result",
          "data": {
            "text/plain": [
              "(8760, 14)"
            ]
          },
          "metadata": {},
          "execution_count": 141
        }
      ]
    },
    {
      "cell_type": "code",
      "source": [
        "bikeData.info()"
      ],
      "metadata": {
        "colab": {
          "base_uri": "https://localhost:8080/"
        },
        "id": "R_-4UeNpGvGQ",
        "outputId": "47a8f38a-a272-4a87-9209-1d2e5f0725af"
      },
      "execution_count": 142,
      "outputs": [
        {
          "output_type": "stream",
          "name": "stdout",
          "text": [
            "<class 'pandas.core.frame.DataFrame'>\n",
            "RangeIndex: 8760 entries, 0 to 8759\n",
            "Data columns (total 14 columns):\n",
            " #   Column                     Non-Null Count  Dtype  \n",
            "---  ------                     --------------  -----  \n",
            " 0   Date                       8760 non-null   object \n",
            " 1   Rented Bike Count          8760 non-null   int64  \n",
            " 2   Hour                       8760 non-null   int64  \n",
            " 3   Temperature(°C)            8760 non-null   float64\n",
            " 4   Humidity(%)                8760 non-null   int64  \n",
            " 5   Wind speed (m/s)           8760 non-null   float64\n",
            " 6   Visibility (10m)           8760 non-null   int64  \n",
            " 7   Dew point temperature(°C)  8760 non-null   float64\n",
            " 8   Solar Radiation (MJ/m2)    8760 non-null   float64\n",
            " 9   Rainfall(mm)               8760 non-null   float64\n",
            " 10  Snowfall (cm)              8760 non-null   float64\n",
            " 11  Seasons                    8760 non-null   object \n",
            " 12  Holiday                    8760 non-null   object \n",
            " 13  Functioning Day            8760 non-null   object \n",
            "dtypes: float64(6), int64(4), object(4)\n",
            "memory usage: 958.2+ KB\n"
          ]
        }
      ]
    },
    {
      "cell_type": "markdown",
      "source": [
        "\n",
        "\n",
        "*   There are 8760 rows and 14 columns\n",
        "*   None of the rows have missing values\n",
        "*   Except Data column, all other columns are in correct data type\n",
        "\n",
        "\n",
        "\n",
        "    \n",
        "\n",
        "\n",
        "\n",
        "\n",
        "\n",
        "\n"
      ],
      "metadata": {
        "id": "_aJ9w8h5HBPb"
      }
    },
    {
      "cell_type": "code",
      "source": [
        "#Checking for null values\n",
        "bikeData.isnull().sum()"
      ],
      "metadata": {
        "colab": {
          "base_uri": "https://localhost:8080/"
        },
        "id": "VdYqEmALH8Mm",
        "outputId": "f19fc42b-7bc6-4414-f0c9-0423f2e857ed"
      },
      "execution_count": 143,
      "outputs": [
        {
          "output_type": "execute_result",
          "data": {
            "text/plain": [
              "Date                         0\n",
              "Rented Bike Count            0\n",
              "Hour                         0\n",
              "Temperature(°C)              0\n",
              "Humidity(%)                  0\n",
              "Wind speed (m/s)             0\n",
              "Visibility (10m)             0\n",
              "Dew point temperature(°C)    0\n",
              "Solar Radiation (MJ/m2)      0\n",
              "Rainfall(mm)                 0\n",
              "Snowfall (cm)                0\n",
              "Seasons                      0\n",
              "Holiday                      0\n",
              "Functioning Day              0\n",
              "dtype: int64"
            ]
          },
          "metadata": {},
          "execution_count": 143
        }
      ]
    },
    {
      "cell_type": "markdown",
      "source": [
        "Hence our data has no null value"
      ],
      "metadata": {
        "id": "RH6YVztrITGQ"
      }
    },
    {
      "cell_type": "markdown",
      "source": [
        "**Brief of different descriptive stats**\n",
        " \n",
        " \n",
        "\n",
        "1.   Measures of Frequency :- Count, Percent, Frequency.\n",
        "2.   Measures of Central Tendency :- Mean, Median, and Mode.\n",
        "\n",
        "1.   Measures of Dispersion or Variation:- Range(min,max),Variance, Standard Deviation\n",
        "2.   Measures of Position :- Percentile Ranks, Quartile Ranks\n",
        "\n",
        "\n",
        "\n",
        "\n",
        "\n",
        "\n"
      ],
      "metadata": {
        "id": "G9XKQ2vCJzl4"
      }
    },
    {
      "cell_type": "code",
      "source": [
        "bikeData.describe().style.background_gradient()"
      ],
      "metadata": {
        "colab": {
          "base_uri": "https://localhost:8080/",
          "height": 318
        },
        "id": "aOvjamtgKcr0",
        "outputId": "f70be859-cddf-4859-cd38-2f2d92ea39da"
      },
      "execution_count": 144,
      "outputs": [
        {
          "output_type": "execute_result",
          "data": {
            "text/plain": [
              "<pandas.io.formats.style.Styler at 0x7f6d0753bf90>"
            ],
            "text/html": [
              "<style type=\"text/css\">\n",
              "#T_12933_row0_col0, #T_12933_row0_col1, #T_12933_row0_col2, #T_12933_row0_col3, #T_12933_row0_col4, #T_12933_row0_col5, #T_12933_row0_col6, #T_12933_row0_col7, #T_12933_row0_col8, #T_12933_row0_col9 {\n",
              "  background-color: #023858;\n",
              "  color: #f1f1f1;\n",
              "}\n",
              "#T_12933_row1_col0 {\n",
              "  background-color: #f3edf5;\n",
              "  color: #000000;\n",
              "}\n",
              "#T_12933_row1_col1, #T_12933_row1_col2, #T_12933_row1_col4, #T_12933_row1_col7, #T_12933_row1_col8, #T_12933_row1_col9, #T_12933_row2_col1, #T_12933_row2_col2, #T_12933_row2_col3, #T_12933_row2_col4, #T_12933_row2_col7, #T_12933_row2_col8, #T_12933_row2_col9, #T_12933_row3_col0, #T_12933_row3_col1, #T_12933_row3_col2, #T_12933_row3_col3, #T_12933_row3_col4, #T_12933_row3_col5, #T_12933_row3_col6, #T_12933_row3_col7, #T_12933_row3_col8, #T_12933_row3_col9, #T_12933_row4_col1, #T_12933_row4_col2, #T_12933_row4_col4, #T_12933_row4_col6, #T_12933_row4_col7, #T_12933_row4_col8, #T_12933_row4_col9, #T_12933_row5_col1, #T_12933_row5_col2, #T_12933_row5_col4, #T_12933_row5_col7, #T_12933_row5_col8, #T_12933_row5_col9, #T_12933_row6_col1, #T_12933_row6_col4, #T_12933_row6_col7, #T_12933_row6_col8, #T_12933_row6_col9, #T_12933_row7_col1, #T_12933_row7_col4, #T_12933_row7_col7, #T_12933_row7_col9 {\n",
              "  background-color: #fff7fb;\n",
              "  color: #000000;\n",
              "}\n",
              "#T_12933_row1_col3, #T_12933_row1_col6, #T_12933_row2_col6, #T_12933_row4_col3, #T_12933_row5_col3, #T_12933_row5_col6, #T_12933_row6_col2, #T_12933_row6_col6, #T_12933_row7_col2, #T_12933_row7_col6, #T_12933_row7_col8 {\n",
              "  background-color: #fef6fb;\n",
              "  color: #000000;\n",
              "}\n",
              "#T_12933_row1_col5 {\n",
              "  background-color: #e4e1ef;\n",
              "  color: #000000;\n",
              "}\n",
              "#T_12933_row2_col0 {\n",
              "  background-color: #f4eef6;\n",
              "  color: #000000;\n",
              "}\n",
              "#T_12933_row2_col5 {\n",
              "  background-color: #f5eef6;\n",
              "  color: #000000;\n",
              "}\n",
              "#T_12933_row4_col0 {\n",
              "  background-color: #fcf4fa;\n",
              "  color: #000000;\n",
              "}\n",
              "#T_12933_row4_col5 {\n",
              "  background-color: #f0eaf4;\n",
              "  color: #000000;\n",
              "}\n",
              "#T_12933_row5_col0 {\n",
              "  background-color: #f7f0f7;\n",
              "  color: #000000;\n",
              "}\n",
              "#T_12933_row5_col5 {\n",
              "  background-color: #dedcec;\n",
              "  color: #000000;\n",
              "}\n",
              "#T_12933_row6_col0 {\n",
              "  background-color: #ede7f2;\n",
              "  color: #000000;\n",
              "}\n",
              "#T_12933_row6_col3, #T_12933_row7_col3 {\n",
              "  background-color: #fef6fa;\n",
              "  color: #000000;\n",
              "}\n",
              "#T_12933_row6_col5, #T_12933_row7_col5 {\n",
              "  background-color: #d6d6e9;\n",
              "  color: #000000;\n",
              "}\n",
              "#T_12933_row7_col0 {\n",
              "  background-color: #9ab8d8;\n",
              "  color: #000000;\n",
              "}\n",
              "</style>\n",
              "<table id=\"T_12933_\" class=\"dataframe\">\n",
              "  <thead>\n",
              "    <tr>\n",
              "      <th class=\"blank level0\" >&nbsp;</th>\n",
              "      <th class=\"col_heading level0 col0\" >Rented Bike Count</th>\n",
              "      <th class=\"col_heading level0 col1\" >Hour</th>\n",
              "      <th class=\"col_heading level0 col2\" >Temperature(°C)</th>\n",
              "      <th class=\"col_heading level0 col3\" >Humidity(%)</th>\n",
              "      <th class=\"col_heading level0 col4\" >Wind speed (m/s)</th>\n",
              "      <th class=\"col_heading level0 col5\" >Visibility (10m)</th>\n",
              "      <th class=\"col_heading level0 col6\" >Dew point temperature(°C)</th>\n",
              "      <th class=\"col_heading level0 col7\" >Solar Radiation (MJ/m2)</th>\n",
              "      <th class=\"col_heading level0 col8\" >Rainfall(mm)</th>\n",
              "      <th class=\"col_heading level0 col9\" >Snowfall (cm)</th>\n",
              "    </tr>\n",
              "  </thead>\n",
              "  <tbody>\n",
              "    <tr>\n",
              "      <th id=\"T_12933_level0_row0\" class=\"row_heading level0 row0\" >count</th>\n",
              "      <td id=\"T_12933_row0_col0\" class=\"data row0 col0\" >8760.000000</td>\n",
              "      <td id=\"T_12933_row0_col1\" class=\"data row0 col1\" >8760.000000</td>\n",
              "      <td id=\"T_12933_row0_col2\" class=\"data row0 col2\" >8760.000000</td>\n",
              "      <td id=\"T_12933_row0_col3\" class=\"data row0 col3\" >8760.000000</td>\n",
              "      <td id=\"T_12933_row0_col4\" class=\"data row0 col4\" >8760.000000</td>\n",
              "      <td id=\"T_12933_row0_col5\" class=\"data row0 col5\" >8760.000000</td>\n",
              "      <td id=\"T_12933_row0_col6\" class=\"data row0 col6\" >8760.000000</td>\n",
              "      <td id=\"T_12933_row0_col7\" class=\"data row0 col7\" >8760.000000</td>\n",
              "      <td id=\"T_12933_row0_col8\" class=\"data row0 col8\" >8760.000000</td>\n",
              "      <td id=\"T_12933_row0_col9\" class=\"data row0 col9\" >8760.000000</td>\n",
              "    </tr>\n",
              "    <tr>\n",
              "      <th id=\"T_12933_level0_row1\" class=\"row_heading level0 row1\" >mean</th>\n",
              "      <td id=\"T_12933_row1_col0\" class=\"data row1 col0\" >704.602055</td>\n",
              "      <td id=\"T_12933_row1_col1\" class=\"data row1 col1\" >11.500000</td>\n",
              "      <td id=\"T_12933_row1_col2\" class=\"data row1 col2\" >12.882922</td>\n",
              "      <td id=\"T_12933_row1_col3\" class=\"data row1 col3\" >58.226256</td>\n",
              "      <td id=\"T_12933_row1_col4\" class=\"data row1 col4\" >1.724909</td>\n",
              "      <td id=\"T_12933_row1_col5\" class=\"data row1 col5\" >1436.825799</td>\n",
              "      <td id=\"T_12933_row1_col6\" class=\"data row1 col6\" >4.073813</td>\n",
              "      <td id=\"T_12933_row1_col7\" class=\"data row1 col7\" >0.569111</td>\n",
              "      <td id=\"T_12933_row1_col8\" class=\"data row1 col8\" >0.148687</td>\n",
              "      <td id=\"T_12933_row1_col9\" class=\"data row1 col9\" >0.075068</td>\n",
              "    </tr>\n",
              "    <tr>\n",
              "      <th id=\"T_12933_level0_row2\" class=\"row_heading level0 row2\" >std</th>\n",
              "      <td id=\"T_12933_row2_col0\" class=\"data row2 col0\" >644.997468</td>\n",
              "      <td id=\"T_12933_row2_col1\" class=\"data row2 col1\" >6.922582</td>\n",
              "      <td id=\"T_12933_row2_col2\" class=\"data row2 col2\" >11.944825</td>\n",
              "      <td id=\"T_12933_row2_col3\" class=\"data row2 col3\" >20.362413</td>\n",
              "      <td id=\"T_12933_row2_col4\" class=\"data row2 col4\" >1.036300</td>\n",
              "      <td id=\"T_12933_row2_col5\" class=\"data row2 col5\" >608.298712</td>\n",
              "      <td id=\"T_12933_row2_col6\" class=\"data row2 col6\" >13.060369</td>\n",
              "      <td id=\"T_12933_row2_col7\" class=\"data row2 col7\" >0.868746</td>\n",
              "      <td id=\"T_12933_row2_col8\" class=\"data row2 col8\" >1.128193</td>\n",
              "      <td id=\"T_12933_row2_col9\" class=\"data row2 col9\" >0.436746</td>\n",
              "    </tr>\n",
              "    <tr>\n",
              "      <th id=\"T_12933_level0_row3\" class=\"row_heading level0 row3\" >min</th>\n",
              "      <td id=\"T_12933_row3_col0\" class=\"data row3 col0\" >0.000000</td>\n",
              "      <td id=\"T_12933_row3_col1\" class=\"data row3 col1\" >0.000000</td>\n",
              "      <td id=\"T_12933_row3_col2\" class=\"data row3 col2\" >-17.800000</td>\n",
              "      <td id=\"T_12933_row3_col3\" class=\"data row3 col3\" >0.000000</td>\n",
              "      <td id=\"T_12933_row3_col4\" class=\"data row3 col4\" >0.000000</td>\n",
              "      <td id=\"T_12933_row3_col5\" class=\"data row3 col5\" >27.000000</td>\n",
              "      <td id=\"T_12933_row3_col6\" class=\"data row3 col6\" >-30.600000</td>\n",
              "      <td id=\"T_12933_row3_col7\" class=\"data row3 col7\" >0.000000</td>\n",
              "      <td id=\"T_12933_row3_col8\" class=\"data row3 col8\" >0.000000</td>\n",
              "      <td id=\"T_12933_row3_col9\" class=\"data row3 col9\" >0.000000</td>\n",
              "    </tr>\n",
              "    <tr>\n",
              "      <th id=\"T_12933_level0_row4\" class=\"row_heading level0 row4\" >25%</th>\n",
              "      <td id=\"T_12933_row4_col0\" class=\"data row4 col0\" >191.000000</td>\n",
              "      <td id=\"T_12933_row4_col1\" class=\"data row4 col1\" >5.750000</td>\n",
              "      <td id=\"T_12933_row4_col2\" class=\"data row4 col2\" >3.500000</td>\n",
              "      <td id=\"T_12933_row4_col3\" class=\"data row4 col3\" >42.000000</td>\n",
              "      <td id=\"T_12933_row4_col4\" class=\"data row4 col4\" >0.900000</td>\n",
              "      <td id=\"T_12933_row4_col5\" class=\"data row4 col5\" >940.000000</td>\n",
              "      <td id=\"T_12933_row4_col6\" class=\"data row4 col6\" >-4.700000</td>\n",
              "      <td id=\"T_12933_row4_col7\" class=\"data row4 col7\" >0.000000</td>\n",
              "      <td id=\"T_12933_row4_col8\" class=\"data row4 col8\" >0.000000</td>\n",
              "      <td id=\"T_12933_row4_col9\" class=\"data row4 col9\" >0.000000</td>\n",
              "    </tr>\n",
              "    <tr>\n",
              "      <th id=\"T_12933_level0_row5\" class=\"row_heading level0 row5\" >50%</th>\n",
              "      <td id=\"T_12933_row5_col0\" class=\"data row5 col0\" >504.500000</td>\n",
              "      <td id=\"T_12933_row5_col1\" class=\"data row5 col1\" >11.500000</td>\n",
              "      <td id=\"T_12933_row5_col2\" class=\"data row5 col2\" >13.700000</td>\n",
              "      <td id=\"T_12933_row5_col3\" class=\"data row5 col3\" >57.000000</td>\n",
              "      <td id=\"T_12933_row5_col4\" class=\"data row5 col4\" >1.500000</td>\n",
              "      <td id=\"T_12933_row5_col5\" class=\"data row5 col5\" >1698.000000</td>\n",
              "      <td id=\"T_12933_row5_col6\" class=\"data row5 col6\" >5.100000</td>\n",
              "      <td id=\"T_12933_row5_col7\" class=\"data row5 col7\" >0.010000</td>\n",
              "      <td id=\"T_12933_row5_col8\" class=\"data row5 col8\" >0.000000</td>\n",
              "      <td id=\"T_12933_row5_col9\" class=\"data row5 col9\" >0.000000</td>\n",
              "    </tr>\n",
              "    <tr>\n",
              "      <th id=\"T_12933_level0_row6\" class=\"row_heading level0 row6\" >75%</th>\n",
              "      <td id=\"T_12933_row6_col0\" class=\"data row6 col0\" >1065.250000</td>\n",
              "      <td id=\"T_12933_row6_col1\" class=\"data row6 col1\" >17.250000</td>\n",
              "      <td id=\"T_12933_row6_col2\" class=\"data row6 col2\" >22.500000</td>\n",
              "      <td id=\"T_12933_row6_col3\" class=\"data row6 col3\" >74.000000</td>\n",
              "      <td id=\"T_12933_row6_col4\" class=\"data row6 col4\" >2.300000</td>\n",
              "      <td id=\"T_12933_row6_col5\" class=\"data row6 col5\" >2000.000000</td>\n",
              "      <td id=\"T_12933_row6_col6\" class=\"data row6 col6\" >14.800000</td>\n",
              "      <td id=\"T_12933_row6_col7\" class=\"data row6 col7\" >0.930000</td>\n",
              "      <td id=\"T_12933_row6_col8\" class=\"data row6 col8\" >0.000000</td>\n",
              "      <td id=\"T_12933_row6_col9\" class=\"data row6 col9\" >0.000000</td>\n",
              "    </tr>\n",
              "    <tr>\n",
              "      <th id=\"T_12933_level0_row7\" class=\"row_heading level0 row7\" >max</th>\n",
              "      <td id=\"T_12933_row7_col0\" class=\"data row7 col0\" >3556.000000</td>\n",
              "      <td id=\"T_12933_row7_col1\" class=\"data row7 col1\" >23.000000</td>\n",
              "      <td id=\"T_12933_row7_col2\" class=\"data row7 col2\" >39.400000</td>\n",
              "      <td id=\"T_12933_row7_col3\" class=\"data row7 col3\" >98.000000</td>\n",
              "      <td id=\"T_12933_row7_col4\" class=\"data row7 col4\" >7.400000</td>\n",
              "      <td id=\"T_12933_row7_col5\" class=\"data row7 col5\" >2000.000000</td>\n",
              "      <td id=\"T_12933_row7_col6\" class=\"data row7 col6\" >27.200000</td>\n",
              "      <td id=\"T_12933_row7_col7\" class=\"data row7 col7\" >3.520000</td>\n",
              "      <td id=\"T_12933_row7_col8\" class=\"data row7 col8\" >35.000000</td>\n",
              "      <td id=\"T_12933_row7_col9\" class=\"data row7 col9\" >8.800000</td>\n",
              "    </tr>\n",
              "  </tbody>\n",
              "</table>\n"
            ]
          },
          "metadata": {},
          "execution_count": 144
        }
      ]
    },
    {
      "cell_type": "code",
      "source": [
        "#Let's take a look at the unique values\n",
        "bikeData.nunique().sort_values(ascending=True)"
      ],
      "metadata": {
        "colab": {
          "base_uri": "https://localhost:8080/"
        },
        "id": "gBbQ__lbRPAh",
        "outputId": "91d032c8-1a0e-4092-c875-fb504ced5097"
      },
      "execution_count": 145,
      "outputs": [
        {
          "output_type": "execute_result",
          "data": {
            "text/plain": [
              "Holiday                         2\n",
              "Functioning Day                 2\n",
              "Seasons                         4\n",
              "Hour                           24\n",
              "Snowfall (cm)                  51\n",
              "Rainfall(mm)                   61\n",
              "Wind speed (m/s)               65\n",
              "Humidity(%)                    90\n",
              "Solar Radiation (MJ/m2)       345\n",
              "Date                          365\n",
              "Temperature(°C)               546\n",
              "Dew point temperature(°C)     556\n",
              "Visibility (10m)             1789\n",
              "Rented Bike Count            2166\n",
              "dtype: int64"
            ]
          },
          "metadata": {},
          "execution_count": 145
        }
      ]
    },
    {
      "cell_type": "code",
      "source": [
        "#We need to convert date column to DateTime\n",
        "bikeData['Date'] = pd.to_datetime(bikeData['Date'], format='%d/%m/%Y')\n",
        "\n",
        "#Extracting month,day and year from the date\n",
        "bikeData['Month']=bikeData['Date'].dt.month\n",
        "bikeData['Day']=bikeData['Date'].dt.day\n",
        "bikeData['Year']=bikeData['Date'].dt.year"
      ],
      "metadata": {
        "id": "ty5qrSmeRQvm"
      },
      "execution_count": 146,
      "outputs": []
    },
    {
      "cell_type": "code",
      "source": [
        "# Getting the numerical variables\n",
        "num_cols=list(bikeData.select_dtypes(exclude=['object','datetime64[ns]']).columns)\n",
        "print(num_cols)"
      ],
      "metadata": {
        "colab": {
          "base_uri": "https://localhost:8080/"
        },
        "id": "nninUL9DeBoZ",
        "outputId": "327f55f3-6de7-4789-a1a5-56823aa25bb6"
      },
      "execution_count": 147,
      "outputs": [
        {
          "output_type": "stream",
          "name": "stdout",
          "text": [
            "['Rented Bike Count', 'Hour', 'Temperature(°C)', 'Humidity(%)', 'Wind speed (m/s)', 'Visibility (10m)', 'Dew point temperature(°C)', 'Solar Radiation (MJ/m2)', 'Rainfall(mm)', 'Snowfall (cm)', 'Month', 'Day', 'Year']\n"
          ]
        }
      ]
    },
    {
      "cell_type": "markdown",
      "source": [
        "##**Now, let's have a look at the distribution of each variable** "
      ],
      "metadata": {
        "id": "TqvIb9K_fbeJ"
      }
    },
    {
      "cell_type": "code",
      "source": [
        "fig=plt.figure(figsize=(12,15))\n",
        "c=1\n",
        "for i in num_cols :\n",
        "    plt.rcParams['axes.facecolor'] = 'yellow'\n",
        "    plt.subplot(5,3, c)\n",
        "    plt.xlabel('Distibution of {}'.format(i))\n",
        "    sns.histplot(x=bikeData[i],kde=True,line_kws={'lw': 1.5},color='red')\n",
        "    c = c + 1\n",
        "plt.tight_layout()"
      ],
      "metadata": {
        "colab": {
          "base_uri": "https://localhost:8080/",
          "height": 1000
        },
        "id": "WY_w7XOmgo-C",
        "outputId": "ebed8f59-490f-4aa2-d1d7-e236c74c5d0e"
      },
      "execution_count": 148,
      "outputs": [
        {
          "output_type": "display_data",
          "data": {
            "text/plain": [
              "<Figure size 864x1080 with 13 Axes>"
            ],
            "image/png": "[encoded data removed]"
          },
          "metadata": {
            "needs_background": "light"
          }
        }
      ]
    },
    {
      "cell_type": "markdown",
      "source": [
        "Most of the paramteric machine learning models like LDA, Linear Regression and many more assume that the data is normally distributed. If this assumption fails the model fails to give accurate predictions. It is recommended to fix the skewness to make good decisions by the model. Here we see that-\n",
        "\n",
        "*   Distribution of temperature,humidity and dew point temperature are normal\n",
        "*   wind speed, solar radiation, snowfall and rainfall are positively skewed\n",
        "\n",
        "*   Visibility is negatively skewed\n",
        "\n",
        "\n",
        "\n",
        "\n"
      ],
      "metadata": {
        "id": "vQ98v6G8lBM1"
      }
    },
    {
      "cell_type": "markdown",
      "source": [
        "Next, we check for outliers in our data. Box plot is a common tool to analyse outliers. In descriptive statistics, a box plot or boxplot is a method for graphically demonstrating the locality, spread and skewness groups of numerical data through their quartiles.\n",
        "\n",
        " How to interpret box plots?\n",
        "* Median: In the box plot, the median is displayed rather than the mean.  \n",
        "\n",
        "* Q1: The first quartile (25%) position\n",
        "\n",
        "* Q3: The third quartile (75%) position\n",
        "* Interquartile range (IQR): a measure of statistical dispersion, being equal to the difference between 75th and 25th percentiles. It represents how 50% of the points were dispersed.\n",
        "\n",
        "\n",
        "* Lower and upper 1.5*IQR whiskers: These represent the limits and boundaries for the outliers\n",
        "*Outliers: Defined as observations that fall below Q1 − 1.5 IQR or above Q3 + 1.5 IQR. Outliers are displayed as dots or circles."
      ],
      "metadata": {
        "id": "gRkuNag9oTlo"
      }
    },
    {
      "cell_type": "code",
      "source": [
        "fig = plt.figure(figsize=(8,25))\n",
        "c=1\n",
        "for i in num_cols :\n",
        "    plt.rcParams['axes.facecolor'] = 'black'\n",
        "    plt.subplot(13,1, c)\n",
        "    plt.xlabel('Distibution of {}'.format(i))\n",
        "    sns.boxplot(x=i,data=bikeData)\n",
        "    c = c + 1\n",
        "plt.tight_layout(pad=0.4, w_pad=0.5, h_pad=5.0)"
      ],
      "metadata": {
        "colab": {
          "base_uri": "https://localhost:8080/",
          "height": 1000
        },
        "id": "ObCd81iboatC",
        "outputId": "f49ae9d6-564d-4e6e-92b6-d055a274d014"
      },
      "execution_count": 149,
      "outputs": [
        {
          "output_type": "display_data",
          "data": {
            "text/plain": [
              "<Figure size 576x1800 with 13 Axes>"
            ],
            "image/png": "[encoded data removed]"
          },
          "metadata": {
            "needs_background": "light"
          }
        }
      ]
    },
    {
      "cell_type": "code",
      "source": [
        "bikeData.skew()"
      ],
      "metadata": {
        "colab": {
          "base_uri": "https://localhost:8080/"
        },
        "id": "D-Tod9jnq7ow",
        "outputId": "78a5f146-7237-4d6c-bb4f-c535df654f9f"
      },
      "execution_count": 150,
      "outputs": [
        {
          "output_type": "execute_result",
          "data": {
            "text/plain": [
              "Rented Bike Count             1.153428\n",
              "Hour                          0.000000\n",
              "Temperature(°C)              -0.198326\n",
              "Humidity(%)                   0.059579\n",
              "Wind speed (m/s)              0.890955\n",
              "Visibility (10m)             -0.701786\n",
              "Dew point temperature(°C)    -0.367298\n",
              "Solar Radiation (MJ/m2)       1.504040\n",
              "Rainfall(mm)                 14.533232\n",
              "Snowfall (cm)                 8.440801\n",
              "Month                        -0.010458\n",
              "Day                           0.007522\n",
              "Year                         -2.978262\n",
              "dtype: float64"
            ]
          },
          "metadata": {},
          "execution_count": 150
        }
      ]
    },
    {
      "cell_type": "markdown",
      "source": [
        "We see most of our variables have outliers too"
      ],
      "metadata": {
        "id": "T0J9gOVrmGna"
      }
    },
    {
      "cell_type": "markdown",
      "source": [
        "##**Feature Transformation Visualization**\n",
        "\n",
        "\n",
        "\n",
        "\n"
      ],
      "metadata": {
        "id": "Zf00DnIR4e1n"
      }
    },
    {
      "cell_type": "code",
      "source": [
        "#Trying different transformations to see how they change the distribution\n",
        "var=list(bikeData.select_dtypes(include=['float64','int64']).columns)\n",
        "fig,axes = plt.subplots(1,3,figsize=(20,5))\n",
        "sns.distplot(np.log1p(bikeData['Rented Bike Count']+0.0000001),ax=axes[0],color='red').set_title(\"log1p\")\n",
        "sns.distplot(np.sqrt(bikeData['Rented Bike Count']),ax=axes[1], color='blue').set_title(\"Square root\")\n",
        "sns.distplot(np.cbrt(bikeData['Rented Bike Count']*2),ax=axes[2], color='green').set_title(\"cube root\")\n",
        "\n",
        "    \n"
      ],
      "metadata": {
        "colab": {
          "base_uri": "https://localhost:8080/",
          "height": 367
        },
        "id": "Dy1xpFWyt-4w",
        "outputId": "9874a85b-8747-40b7-f511-64ced970e7ca"
      },
      "execution_count": 151,
      "outputs": [
        {
          "output_type": "execute_result",
          "data": {
            "text/plain": [
              "Text(0.5, 1.0, 'cube root')"
            ]
          },
          "metadata": {},
          "execution_count": 151
        },
        {
          "output_type": "display_data",
          "data": {
            "text/plain": [
              "<Figure size 1440x360 with 3 Axes>"
            ],
            "image/png": "[encoded data removed]"
          },
          "metadata": {
            "needs_background": "light"
          }
        }
      ]
    },
    {
      "cell_type": "code",
      "source": [
        "#Transformations of Wind Speed(m/s)\n",
        "fig,axes = plt.subplots(1,3,figsize=(20,5))\n",
        "sns.distplot(np.log1p(bikeData['Wind speed (m/s)']+0.0000001),ax=axes[0],color='red').set_title(\"log1p\")\n",
        "sns.distplot(np.sqrt(bikeData['Wind speed (m/s)']),ax=axes[1], color='blue').set_title(\"Square root\")\n",
        "sns.distplot(np.cbrt(bikeData['Wind speed (m/s)']*2),ax=axes[2], color='green').set_title(\"cube root\")"
      ],
      "metadata": {
        "colab": {
          "base_uri": "https://localhost:8080/",
          "height": 367
        },
        "id": "0gT7W4sYlMXK",
        "outputId": "e8573822-3a79-4e55-ff54-366117414ee3"
      },
      "execution_count": 152,
      "outputs": [
        {
          "output_type": "execute_result",
          "data": {
            "text/plain": [
              "Text(0.5, 1.0, 'cube root')"
            ]
          },
          "metadata": {},
          "execution_count": 152
        },
        {
          "output_type": "display_data",
          "data": {
            "text/plain": [
              "<Figure size 1440x360 with 3 Axes>"
            ],
            "image/png": "[encoded data removed]"
          },
          "metadata": {
            "needs_background": "light"
          }
        }
      ]
    },
    {
      "cell_type": "markdown",
      "source": [
        "##**Correlation Heatmap**"
      ],
      "metadata": {
        "id": "FRPKDtBqFLuz"
      }
    },
    {
      "cell_type": "code",
      "source": [
        "plt.figure(figsize = (12,12))\n",
        "sns.heatmap(bikeData[['Date', 'Rented Bike Count', 'Hour', 'Temperature(°C)', 'Humidity(%)',\n",
        "       'Wind speed (m/s)', 'Visibility (10m)', 'Solar Radiation (MJ/m2)',\n",
        "       'Rainfall(mm)', 'Snowfall (cm)', 'Seasons', 'Holiday',\n",
        "       'Functioning Day','Month','Dew point temperature(°C)','Year']].corr(),vmin=-1,vmax=1,annot=True,cmap='YlGnBu')"
      ],
      "metadata": {
        "colab": {
          "base_uri": "https://localhost:8080/",
          "height": 847
        },
        "id": "G23hFE3JFKnd",
        "outputId": "024b18bf-f90b-4ddc-8818-eb4ff11b633f"
      },
      "execution_count": 153,
      "outputs": [
        {
          "output_type": "execute_result",
          "data": {
            "text/plain": [
              "<matplotlib.axes._subplots.AxesSubplot at 0x7f6d060407d0>"
            ]
          },
          "metadata": {},
          "execution_count": 153
        },
        {
          "output_type": "display_data",
          "data": {
            "text/plain": [
              "<Figure size 864x864 with 2 Axes>"
            ],
            "image/png": "[encoded data removed]"
          },
          "metadata": {
            "needs_background": "light"
          }
        }
      ]
    },
    {
      "cell_type": "markdown",
      "source": [
        "\n",
        "\n",
        "*   Dew point temperature is strongly correlated with Temperature\n",
        "*   Temperature, hour share a strong correlation with Rented Bike Count\n",
        "\n"
      ],
      "metadata": {
        "id": "jOFg-UpEGiKZ"
      }
    },
    {
      "cell_type": "markdown",
      "source": [
        "##**Analysing categorical variables**"
      ],
      "metadata": {
        "id": "Q2SLQcfMKXAG"
      }
    },
    {
      "cell_type": "code",
      "source": [
        "# We plot pie charts to see the distribution of categorical variables\n",
        "#First we begin with seasons\n",
        "season_var=pd.crosstab(index=bikeData['Seasons'],columns='% observations')\n",
        "print(season_var)\n",
        "plt.pie(season_var['% observations'],labels=season_var['% observations'].index,autopct='%.0f%%')\n",
        "plt.title('Seasons')\n",
        "plt.show()"
      ],
      "metadata": {
        "colab": {
          "base_uri": "https://localhost:8080/",
          "height": 368
        },
        "id": "bb_0olvFHQLA",
        "outputId": "dba11ec5-492c-4d8f-f664-8ede9ec002f2"
      },
      "execution_count": 154,
      "outputs": [
        {
          "output_type": "stream",
          "name": "stdout",
          "text": [
            "col_0    % observations\n",
            "Seasons                \n",
            "Autumn             2184\n",
            "Spring             2208\n",
            "Summer             2208\n",
            "Winter             2160\n"
          ]
        },
        {
          "output_type": "display_data",
          "data": {
            "text/plain": [
              "<Figure size 432x288 with 1 Axes>"
            ],
            "image/png": "[encoded data removed]"
          },
          "metadata": {}
        }
      ]
    },
    {
      "cell_type": "code",
      "source": [
        "#Then we check for functioning day\n",
        "Functioning_Day=pd.crosstab(index=bikeData['Functioning Day'],columns='% observations')\n",
        "print(Functioning_Day)\n",
        "plt.pie(Functioning_Day['% observations'],labels=Functioning_Day['% observations'].index,autopct='%.0f%%')\n",
        "plt.title('Functioning Day')\n",
        "plt.show()"
      ],
      "metadata": {
        "colab": {
          "base_uri": "https://localhost:8080/",
          "height": 333
        },
        "id": "xXfkapySPL-l",
        "outputId": "6c547816-4769-422c-dc2f-4a80922ec748"
      },
      "execution_count": 155,
      "outputs": [
        {
          "output_type": "stream",
          "name": "stdout",
          "text": [
            "col_0            % observations\n",
            "Functioning Day                \n",
            "No                          295\n",
            "Yes                        8465\n"
          ]
        },
        {
          "output_type": "display_data",
          "data": {
            "text/plain": [
              "<Figure size 432x288 with 1 Axes>"
            ],
            "image/png": "[encoded data removed]"
          },
          "metadata": {}
        }
      ]
    },
    {
      "cell_type": "code",
      "source": [
        "#Let's check for Holidays now\n",
        "holiday=pd.crosstab(index=bikeData['Holiday'],columns='% observations')\n",
        "print(holiday)\n",
        "plt.pie(holiday['% observations'],labels=holiday['% observations'].index,autopct='%.0f%%')\n",
        "plt.title('Holiday')\n",
        "plt.show()"
      ],
      "metadata": {
        "colab": {
          "base_uri": "https://localhost:8080/",
          "height": 333
        },
        "id": "uCV7Ecg9QYV4",
        "outputId": "39ec0c76-f5ad-499a-8d24-602af1602c91"
      },
      "execution_count": 156,
      "outputs": [
        {
          "output_type": "stream",
          "name": "stdout",
          "text": [
            "col_0       % observations\n",
            "Holiday                   \n",
            "Holiday                432\n",
            "No Holiday            8328\n"
          ]
        },
        {
          "output_type": "display_data",
          "data": {
            "text/plain": [
              "<Figure size 432x288 with 1 Axes>"
            ],
            "image/png": "[encoded data removed]"
          },
          "metadata": {}
        }
      ]
    },
    {
      "cell_type": "markdown",
      "source": [
        "##**Feature Engineering**"
      ],
      "metadata": {
        "id": "bmJ2kXyUoZ9-"
      }
    },
    {
      "cell_type": "code",
      "source": [
        "from statsmodels.stats.outliers_influence import variance_inflation_factor\n",
        "def check_vif(dataframe):\n",
        "  '''\n",
        "  This function calculates the variance inflation factor of the independent features in the datasdet\n",
        "  '''\n",
        "  # the independent variables set\n",
        "  X =dataframe\n",
        "  # VIF dataframe\n",
        "  vif_data = pd.DataFrame()\n",
        "  vif_data[\"feature\"] = X.columns\n",
        "    \n",
        "  # calculating VIF for each feature\n",
        "  vif_data[\"VIF\"] = [variance_inflation_factor(X.values, i)\n",
        "                            for i in range(len(X.columns))]\n",
        "  print(vif_data)"
      ],
      "metadata": {
        "id": "mMdukJ7woqSM"
      },
      "execution_count": 157,
      "outputs": []
    },
    {
      "cell_type": "code",
      "source": [
        "#checking VIF\n",
        "check_vif(bikeData[['Hour', 'Temperature(°C)', 'Humidity(%)',\n",
        "       'Wind speed (m/s)', 'Visibility (10m)', 'Dew point temperature(°C)',\n",
        "       'Solar Radiation (MJ/m2)', 'Rainfall(mm)', 'Snowfall (cm)', \n",
        "        'Month','Year','Day']])"
      ],
      "metadata": {
        "colab": {
          "base_uri": "https://localhost:8080/"
        },
        "id": "vUAwjq6voz1G",
        "outputId": "f4f87d70-b9f4-43fa-f570-25d5995be50d"
      },
      "execution_count": 158,
      "outputs": [
        {
          "output_type": "stream",
          "name": "stdout",
          "text": [
            "                      feature         VIF\n",
            "0                        Hour    4.458880\n",
            "1             Temperature(°C)  188.666573\n",
            "2                 Humidity(%)  187.533688\n",
            "3            Wind speed (m/s)    4.890096\n",
            "4            Visibility (10m)   10.788995\n",
            "5   Dew point temperature(°C)  126.954261\n",
            "6     Solar Radiation (MJ/m2)    2.904971\n",
            "7                Rainfall(mm)    1.103386\n",
            "8               Snowfall (cm)    1.155412\n",
            "9                       Month    5.108772\n",
            "10                       Year  407.025112\n",
            "11                        Day    4.379818\n"
          ]
        }
      ]
    },
    {
      "cell_type": "code",
      "source": [
        "#Temperature is more important feature than Dew point temperature, thus we drop dew point temperature and check the VIF\n",
        "#VIF on removing Dew point temperature\n",
        "check_vif(bikeData[['Hour', 'Temperature(°C)', 'Humidity(%)',\n",
        "       'Wind speed (m/s)', 'Visibility (10m)', \n",
        "       'Solar Radiation (MJ/m2)', 'Rainfall(mm)', 'Snowfall (cm)', \n",
        "        'Month','Day','Year']])"
      ],
      "metadata": {
        "colab": {
          "base_uri": "https://localhost:8080/"
        },
        "id": "jFau3hD_pocZ",
        "outputId": "fdcc3085-38f6-4f37-ab5a-da54cc3574a1"
      },
      "execution_count": 159,
      "outputs": [
        {
          "output_type": "stream",
          "name": "stdout",
          "text": [
            "                    feature        VIF\n",
            "0                      Hour   4.450438\n",
            "1           Temperature(°C)   3.647553\n",
            "2               Humidity(%)  24.006015\n",
            "3          Wind speed (m/s)   4.882400\n",
            "4          Visibility (10m)  10.721758\n",
            "5   Solar Radiation (MJ/m2)   2.766789\n",
            "6              Rainfall(mm)   1.089247\n",
            "7             Snowfall (cm)   1.150346\n",
            "8                     Month   5.108772\n",
            "9                       Day   4.379687\n",
            "10                     Year  63.529125\n"
          ]
        }
      ]
    },
    {
      "cell_type": "code",
      "source": [
        "# Dropping the Dew point temperature from our dataset\n",
        "bikeData.drop('Dew point temperature(°C)',inplace=True,axis=1)"
      ],
      "metadata": {
        "id": "D5FcvxeFqIVw"
      },
      "execution_count": 160,
      "outputs": []
    },
    {
      "cell_type": "code",
      "source": [
        "bikeData.columns"
      ],
      "metadata": {
        "colab": {
          "base_uri": "https://localhost:8080/"
        },
        "id": "N9DxcvbfqP2v",
        "outputId": "28162a6b-7b49-4d93-bf47-2a4c55931220"
      },
      "execution_count": 161,
      "outputs": [
        {
          "output_type": "execute_result",
          "data": {
            "text/plain": [
              "Index(['Date', 'Rented Bike Count', 'Hour', 'Temperature(°C)', 'Humidity(%)',\n",
              "       'Wind speed (m/s)', 'Visibility (10m)', 'Solar Radiation (MJ/m2)',\n",
              "       'Rainfall(mm)', 'Snowfall (cm)', 'Seasons', 'Holiday',\n",
              "       'Functioning Day', 'Month', 'Day', 'Year'],\n",
              "      dtype='object')"
            ]
          },
          "metadata": {},
          "execution_count": 161
        }
      ]
    },
    {
      "cell_type": "markdown",
      "source": [
        "**Next, we convert the categorical variables into numerical**"
      ],
      "metadata": {
        "id": "mgO4SvqETwek"
      }
    },
    {
      "cell_type": "code",
      "source": [
        "bikeData_copy=bikeData.copy()\n",
        "#Dummification of categorical features\n",
        "columns_=['Seasons','Holiday','Functioning Day']\n",
        "dummy_categorical_features = pd.get_dummies(bikeData[columns_],drop_first=True)\n",
        "dummy_categorical_features.head(3)"
      ],
      "metadata": {
        "colab": {
          "base_uri": "https://localhost:8080/",
          "height": 143
        },
        "id": "92kOc9liQ6jB",
        "outputId": "cb67e28c-96fe-4676-b268-c205b9065743"
      },
      "execution_count": 162,
      "outputs": [
        {
          "output_type": "execute_result",
          "data": {
            "text/plain": [
              "   Seasons_Spring  Seasons_Summer  Seasons_Winter  Holiday_No Holiday  \\\n",
              "0               0               0               1                   1   \n",
              "1               0               0               1                   1   \n",
              "2               0               0               1                   1   \n",
              "\n",
              "   Functioning Day_Yes  \n",
              "0                    1  \n",
              "1                    1  \n",
              "2                    1  "
            ],
            "text/html": [
              "\n",
              "  <div id=\"df-fc4b4445-23f1-4757-b3c1-eb1de5052d7e\">\n",
              "    <div class=\"colab-df-container\">\n",
              "      <div>\n",
              "<style scoped>\n",
              "    .dataframe tbody tr th:only-of-type {\n",
              "        vertical-align: middle;\n",
              "    }\n",
              "\n",
              "    .dataframe tbody tr th {\n",
              "        vertical-align: top;\n",
              "    }\n",
              "\n",
              "    .dataframe thead th {\n",
              "        text-align: right;\n",
              "    }\n",
              "</style>\n",
              "<table border=\"1\" class=\"dataframe\">\n",
              "  <thead>\n",
              "    <tr style=\"text-align: right;\">\n",
              "      <th></th>\n",
              "      <th>Seasons_Spring</th>\n",
              "      <th>Seasons_Summer</th>\n",
              "      <th>Seasons_Winter</th>\n",
              "      <th>Holiday_No Holiday</th>\n",
              "      <th>Functioning Day_Yes</th>\n",
              "    </tr>\n",
              "  </thead>\n",
              "  <tbody>\n",
              "    <tr>\n",
              "      <th>0</th>\n",
              "      <td>0</td>\n",
              "      <td>0</td>\n",
              "      <td>1</td>\n",
              "      <td>1</td>\n",
              "      <td>1</td>\n",
              "    </tr>\n",
              "    <tr>\n",
              "      <th>1</th>\n",
              "      <td>0</td>\n",
              "      <td>0</td>\n",
              "      <td>1</td>\n",
              "      <td>1</td>\n",
              "      <td>1</td>\n",
              "    </tr>\n",
              "    <tr>\n",
              "      <th>2</th>\n",
              "      <td>0</td>\n",
              "      <td>0</td>\n",
              "      <td>1</td>\n",
              "      <td>1</td>\n",
              "      <td>1</td>\n",
              "    </tr>\n",
              "  </tbody>\n",
              "</table>\n",
              "</div>\n",
              "      <button class=\"colab-df-convert\" onclick=\"convertToInteractive('df-fc4b4445-23f1-4757-b3c1-eb1de5052d7e')\"\n",
              "              title=\"Convert this dataframe to an interactive table.\"\n",
              "              style=\"display:none;\">\n",
              "        \n",
              "  <svg xmlns=\"http://www.w3.org/2000/svg\" height=\"24px\"viewBox=\"0 0 24 24\"\n",
              "       width=\"24px\">\n",
              "    <path d=\"M0 0h24v24H0V0z\" fill=\"none\"/>\n",
              "    <path d=\"M18.56 5.44l.94 2.06.94-2.06 2.06-.94-2.06-.94-.94-2.06-.94 2.06-2.06.94zm-11 1L8.5 8.5l.94-2.06 2.06-.94-2.06-.94L8.5 2.5l-.94 2.06-2.06.94zm10 10l.94 2.06.94-2.06 2.06-.94-2.06-.94-.94-2.06-.94 2.06-2.06.94z\"/><path d=\"M17.41 7.96l-1.37-1.37c-.4-.4-.92-.59-1.43-.59-.52 0-1.04.2-1.43.59L10.3 9.45l-7.72 7.72c-.78.78-.78 2.05 0 2.83L4 21.41c.39.39.9.59 1.41.59.51 0 1.02-.2 1.41-.59l7.78-7.78 2.81-2.81c.8-.78.8-2.07 0-2.86zM5.41 20L4 18.59l7.72-7.72 1.47 1.35L5.41 20z\"/>\n",
              "  </svg>\n",
              "      </button>\n",
              "      \n",
              "  <style>\n",
              "    .colab-df-container {\n",
              "      display:flex;\n",
              "      flex-wrap:wrap;\n",
              "      gap: 12px;\n",
              "    }\n",
              "\n",
              "    .colab-df-convert {\n",
              "      background-color: #E8F0FE;\n",
              "      border: none;\n",
              "      border-radius: 50%;\n",
              "      cursor: pointer;\n",
              "      display: none;\n",
              "      fill: #1967D2;\n",
              "      height: 32px;\n",
              "      padding: 0 0 0 0;\n",
              "      width: 32px;\n",
              "    }\n",
              "\n",
              "    .colab-df-convert:hover {\n",
              "      background-color: #E2EBFA;\n",
              "      box-shadow: 0px 1px 2px rgba(60, 64, 67, 0.3), 0px 1px 3px 1px rgba(60, 64, 67, 0.15);\n",
              "      fill: #174EA6;\n",
              "    }\n",
              "\n",
              "    [theme=dark] .colab-df-convert {\n",
              "      background-color: #3B4455;\n",
              "      fill: #D2E3FC;\n",
              "    }\n",
              "\n",
              "    [theme=dark] .colab-df-convert:hover {\n",
              "      background-color: #434B5C;\n",
              "      box-shadow: 0px 1px 3px 1px rgba(0, 0, 0, 0.15);\n",
              "      filter: drop-shadow(0px 1px 2px rgba(0, 0, 0, 0.3));\n",
              "      fill: #FFFFFF;\n",
              "    }\n",
              "  </style>\n",
              "\n",
              "      <script>\n",
              "        const buttonEl =\n",
              "          document.querySelector('#df-fc4b4445-23f1-4757-b3c1-eb1de5052d7e button.colab-df-convert');\n",
              "        buttonEl.style.display =\n",
              "          google.colab.kernel.accessAllowed ? 'block' : 'none';\n",
              "\n",
              "        async function convertToInteractive(key) {\n",
              "          const element = document.querySelector('#df-fc4b4445-23f1-4757-b3c1-eb1de5052d7e');\n",
              "          const dataTable =\n",
              "            await google.colab.kernel.invokeFunction('convertToInteractive',\n",
              "                                                     [key], {});\n",
              "          if (!dataTable) return;\n",
              "\n",
              "          const docLinkHtml = 'Like what you see? Visit the ' +\n",
              "            '<a target=\"_blank\" href=https://colab.research.google.com/notebooks/data_table.ipynb>data table notebook</a>'\n",
              "            + ' to learn more about interactive tables.';\n",
              "          element.innerHTML = '';\n",
              "          dataTable['output_type'] = 'display_data';\n",
              "          await google.colab.output.renderOutput(dataTable, element);\n",
              "          const docLink = document.createElement('div');\n",
              "          docLink.innerHTML = docLinkHtml;\n",
              "          element.appendChild(docLink);\n",
              "        }\n",
              "      </script>\n",
              "    </div>\n",
              "  </div>\n",
              "  "
            ]
          },
          "metadata": {},
          "execution_count": 162
        }
      ]
    },
    {
      "cell_type": "code",
      "source": [
        "# Hour is also a categorical variable but converting it to numerical will result in 24 variables for each hour. Hence, we form four categories with 6 hrs in each\n",
        "# Then we go for encoding to get four variables, and drop the Hour feature\n",
        "def hour_half(x):\n",
        "  if x<6: return '1sthalf'\n",
        "  elif x<12: return '2ndhalf'\n",
        "  elif x<18: return '3rdhalf'\n",
        "  else: return '4thhalf'\n",
        "\n",
        "bikeData['Hour_half']=bikeData.Hour.apply(lambda x:hour_half(x))"
      ],
      "metadata": {
        "id": "VwMzaRzFhjMp"
      },
      "execution_count": 163,
      "outputs": []
    },
    {
      "cell_type": "code",
      "source": [
        "print(bikeData[['Hour','Hour_half']].sample(5))"
      ],
      "metadata": {
        "colab": {
          "base_uri": "https://localhost:8080/"
        },
        "id": "lPabWw6gisVV",
        "outputId": "439ac724-bc47-4ff2-afc5-7c46e2856f44"
      },
      "execution_count": 164,
      "outputs": [
        {
          "output_type": "stream",
          "name": "stdout",
          "text": [
            "      Hour Hour_half\n",
            "4814    14   3rdhalf\n",
            "3302    14   3rdhalf\n",
            "6519    15   3rdhalf\n",
            "233     17   3rdhalf\n",
            "6584     8   2ndhalf\n"
          ]
        }
      ]
    },
    {
      "cell_type": "code",
      "source": [
        "dummy_hour=pd.get_dummies(bikeData['Hour_half'],drop_first=True)"
      ],
      "metadata": {
        "id": "DR5lNvhcjTdN"
      },
      "execution_count": 165,
      "outputs": []
    },
    {
      "cell_type": "code",
      "source": [
        "list_of_df=[bikeData_copy,dummy_categorical_features,dummy_hour]\n",
        "bikeData=pd.concat(list_of_df, axis=1)\n",
        "bikeData.drop(['Seasons','Functioning Day','Holiday','Date','Hour','Year'], axis=1, inplace=True) # We chose to drop the Year variable too as it has a high VIF and won't contribute much to the model\n",
        "bikeData.columns\n"
      ],
      "metadata": {
        "colab": {
          "base_uri": "https://localhost:8080/"
        },
        "id": "MQSZl0l_at9q",
        "outputId": "dc06e6b7-75af-49a1-cba5-c882e32402fd"
      },
      "execution_count": 166,
      "outputs": [
        {
          "output_type": "execute_result",
          "data": {
            "text/plain": [
              "Index(['Rented Bike Count', 'Temperature(°C)', 'Humidity(%)',\n",
              "       'Wind speed (m/s)', 'Visibility (10m)', 'Solar Radiation (MJ/m2)',\n",
              "       'Rainfall(mm)', 'Snowfall (cm)', 'Month', 'Day', 'Seasons_Spring',\n",
              "       'Seasons_Summer', 'Seasons_Winter', 'Holiday_No Holiday',\n",
              "       'Functioning Day_Yes', '2ndhalf', '3rdhalf', '4thhalf'],\n",
              "      dtype='object')"
            ]
          },
          "metadata": {},
          "execution_count": 166
        }
      ]
    },
    {
      "cell_type": "code",
      "source": [
        "bikeData.head()"
      ],
      "metadata": {
        "colab": {
          "base_uri": "https://localhost:8080/",
          "height": 305
        },
        "id": "vvGhJIqDj2q6",
        "outputId": "08c6e9c6-c496-4c49-a10d-309ac4c6d78d"
      },
      "execution_count": 167,
      "outputs": [
        {
          "output_type": "execute_result",
          "data": {
            "text/plain": [
              "   Rented Bike Count  Temperature(°C)  Humidity(%)  Wind speed (m/s)  \\\n",
              "0                254             -5.2           37               2.2   \n",
              "1                204             -5.5           38               0.8   \n",
              "2                173             -6.0           39               1.0   \n",
              "3                107             -6.2           40               0.9   \n",
              "4                 78             -6.0           36               2.3   \n",
              "\n",
              "   Visibility (10m)  Solar Radiation (MJ/m2)  Rainfall(mm)  Snowfall (cm)  \\\n",
              "0              2000                      0.0           0.0            0.0   \n",
              "1              2000                      0.0           0.0            0.0   \n",
              "2              2000                      0.0           0.0            0.0   \n",
              "3              2000                      0.0           0.0            0.0   \n",
              "4              2000                      0.0           0.0            0.0   \n",
              "\n",
              "   Month  Day  Seasons_Spring  Seasons_Summer  Seasons_Winter  \\\n",
              "0     12    1               0               0               1   \n",
              "1     12    1               0               0               1   \n",
              "2     12    1               0               0               1   \n",
              "3     12    1               0               0               1   \n",
              "4     12    1               0               0               1   \n",
              "\n",
              "   Holiday_No Holiday  Functioning Day_Yes  2ndhalf  3rdhalf  4thhalf  \n",
              "0                   1                    1        0        0        0  \n",
              "1                   1                    1        0        0        0  \n",
              "2                   1                    1        0        0        0  \n",
              "3                   1                    1        0        0        0  \n",
              "4                   1                    1        0        0        0  "
            ],
            "text/html": [
              "\n",
              "  <div id=\"df-1daec24d-8210-4c4d-857e-6fdc37f7784d\">\n",
              "    <div class=\"colab-df-container\">\n",
              "      <div>\n",
              "<style scoped>\n",
              "    .dataframe tbody tr th:only-of-type {\n",
              "        vertical-align: middle;\n",
              "    }\n",
              "\n",
              "    .dataframe tbody tr th {\n",
              "        vertical-align: top;\n",
              "    }\n",
              "\n",
              "    .dataframe thead th {\n",
              "        text-align: right;\n",
              "    }\n",
              "</style>\n",
              "<table border=\"1\" class=\"dataframe\">\n",
              "  <thead>\n",
              "    <tr style=\"text-align: right;\">\n",
              "      <th></th>\n",
              "      <th>Rented Bike Count</th>\n",
              "      <th>Temperature(°C)</th>\n",
              "      <th>Humidity(%)</th>\n",
              "      <th>Wind speed (m/s)</th>\n",
              "      <th>Visibility (10m)</th>\n",
              "      <th>Solar Radiation (MJ/m2)</th>\n",
              "      <th>Rainfall(mm)</th>\n",
              "      <th>Snowfall (cm)</th>\n",
              "      <th>Month</th>\n",
              "      <th>Day</th>\n",
              "      <th>Seasons_Spring</th>\n",
              "      <th>Seasons_Summer</th>\n",
              "      <th>Seasons_Winter</th>\n",
              "      <th>Holiday_No Holiday</th>\n",
              "      <th>Functioning Day_Yes</th>\n",
              "      <th>2ndhalf</th>\n",
              "      <th>3rdhalf</th>\n",
              "      <th>4thhalf</th>\n",
              "    </tr>\n",
              "  </thead>\n",
              "  <tbody>\n",
              "    <tr>\n",
              "      <th>0</th>\n",
              "      <td>254</td>\n",
              "      <td>-5.2</td>\n",
              "      <td>37</td>\n",
              "      <td>2.2</td>\n",
              "      <td>2000</td>\n",
              "      <td>0.0</td>\n",
              "      <td>0.0</td>\n",
              "      <td>0.0</td>\n",
              "      <td>12</td>\n",
              "      <td>1</td>\n",
              "      <td>0</td>\n",
              "      <td>0</td>\n",
              "      <td>1</td>\n",
              "      <td>1</td>\n",
              "      <td>1</td>\n",
              "      <td>0</td>\n",
              "      <td>0</td>\n",
              "      <td>0</td>\n",
              "    </tr>\n",
              "    <tr>\n",
              "      <th>1</th>\n",
              "      <td>204</td>\n",
              "      <td>-5.5</td>\n",
              "      <td>38</td>\n",
              "      <td>0.8</td>\n",
              "      <td>2000</td>\n",
              "      <td>0.0</td>\n",
              "      <td>0.0</td>\n",
              "      <td>0.0</td>\n",
              "      <td>12</td>\n",
              "      <td>1</td>\n",
              "      <td>0</td>\n",
              "      <td>0</td>\n",
              "      <td>1</td>\n",
              "      <td>1</td>\n",
              "      <td>1</td>\n",
              "      <td>0</td>\n",
              "      <td>0</td>\n",
              "      <td>0</td>\n",
              "    </tr>\n",
              "    <tr>\n",
              "      <th>2</th>\n",
              "      <td>173</td>\n",
              "      <td>-6.0</td>\n",
              "      <td>39</td>\n",
              "      <td>1.0</td>\n",
              "      <td>2000</td>\n",
              "      <td>0.0</td>\n",
              "      <td>0.0</td>\n",
              "      <td>0.0</td>\n",
              "      <td>12</td>\n",
              "      <td>1</td>\n",
              "      <td>0</td>\n",
              "      <td>0</td>\n",
              "      <td>1</td>\n",
              "      <td>1</td>\n",
              "      <td>1</td>\n",
              "      <td>0</td>\n",
              "      <td>0</td>\n",
              "      <td>0</td>\n",
              "    </tr>\n",
              "    <tr>\n",
              "      <th>3</th>\n",
              "      <td>107</td>\n",
              "      <td>-6.2</td>\n",
              "      <td>40</td>\n",
              "      <td>0.9</td>\n",
              "      <td>2000</td>\n",
              "      <td>0.0</td>\n",
              "      <td>0.0</td>\n",
              "      <td>0.0</td>\n",
              "      <td>12</td>\n",
              "      <td>1</td>\n",
              "      <td>0</td>\n",
              "      <td>0</td>\n",
              "      <td>1</td>\n",
              "      <td>1</td>\n",
              "      <td>1</td>\n",
              "      <td>0</td>\n",
              "      <td>0</td>\n",
              "      <td>0</td>\n",
              "    </tr>\n",
              "    <tr>\n",
              "      <th>4</th>\n",
              "      <td>78</td>\n",
              "      <td>-6.0</td>\n",
              "      <td>36</td>\n",
              "      <td>2.3</td>\n",
              "      <td>2000</td>\n",
              "      <td>0.0</td>\n",
              "      <td>0.0</td>\n",
              "      <td>0.0</td>\n",
              "      <td>12</td>\n",
              "      <td>1</td>\n",
              "      <td>0</td>\n",
              "      <td>0</td>\n",
              "      <td>1</td>\n",
              "      <td>1</td>\n",
              "      <td>1</td>\n",
              "      <td>0</td>\n",
              "      <td>0</td>\n",
              "      <td>0</td>\n",
              "    </tr>\n",
              "  </tbody>\n",
              "</table>\n",
              "</div>\n",
              "      <button class=\"colab-df-convert\" onclick=\"convertToInteractive('df-1daec24d-8210-4c4d-857e-6fdc37f7784d')\"\n",
              "              title=\"Convert this dataframe to an interactive table.\"\n",
              "              style=\"display:none;\">\n",
              "        \n",
              "  <svg xmlns=\"http://www.w3.org/2000/svg\" height=\"24px\"viewBox=\"0 0 24 24\"\n",
              "       width=\"24px\">\n",
              "    <path d=\"M0 0h24v24H0V0z\" fill=\"none\"/>\n",
              "    <path d=\"M18.56 5.44l.94 2.06.94-2.06 2.06-.94-2.06-.94-.94-2.06-.94 2.06-2.06.94zm-11 1L8.5 8.5l.94-2.06 2.06-.94-2.06-.94L8.5 2.5l-.94 2.06-2.06.94zm10 10l.94 2.06.94-2.06 2.06-.94-2.06-.94-.94-2.06-.94 2.06-2.06.94z\"/><path d=\"M17.41 7.96l-1.37-1.37c-.4-.4-.92-.59-1.43-.59-.52 0-1.04.2-1.43.59L10.3 9.45l-7.72 7.72c-.78.78-.78 2.05 0 2.83L4 21.41c.39.39.9.59 1.41.59.51 0 1.02-.2 1.41-.59l7.78-7.78 2.81-2.81c.8-.78.8-2.07 0-2.86zM5.41 20L4 18.59l7.72-7.72 1.47 1.35L5.41 20z\"/>\n",
              "  </svg>\n",
              "      </button>\n",
              "      \n",
              "  <style>\n",
              "    .colab-df-container {\n",
              "      display:flex;\n",
              "      flex-wrap:wrap;\n",
              "      gap: 12px;\n",
              "    }\n",
              "\n",
              "    .colab-df-convert {\n",
              "      background-color: #E8F0FE;\n",
              "      border: none;\n",
              "      border-radius: 50%;\n",
              "      cursor: pointer;\n",
              "      display: none;\n",
              "      fill: #1967D2;\n",
              "      height: 32px;\n",
              "      padding: 0 0 0 0;\n",
              "      width: 32px;\n",
              "    }\n",
              "\n",
              "    .colab-df-convert:hover {\n",
              "      background-color: #E2EBFA;\n",
              "      box-shadow: 0px 1px 2px rgba(60, 64, 67, 0.3), 0px 1px 3px 1px rgba(60, 64, 67, 0.15);\n",
              "      fill: #174EA6;\n",
              "    }\n",
              "\n",
              "    [theme=dark] .colab-df-convert {\n",
              "      background-color: #3B4455;\n",
              "      fill: #D2E3FC;\n",
              "    }\n",
              "\n",
              "    [theme=dark] .colab-df-convert:hover {\n",
              "      background-color: #434B5C;\n",
              "      box-shadow: 0px 1px 3px 1px rgba(0, 0, 0, 0.15);\n",
              "      filter: drop-shadow(0px 1px 2px rgba(0, 0, 0, 0.3));\n",
              "      fill: #FFFFFF;\n",
              "    }\n",
              "  </style>\n",
              "\n",
              "      <script>\n",
              "        const buttonEl =\n",
              "          document.querySelector('#df-1daec24d-8210-4c4d-857e-6fdc37f7784d button.colab-df-convert');\n",
              "        buttonEl.style.display =\n",
              "          google.colab.kernel.accessAllowed ? 'block' : 'none';\n",
              "\n",
              "        async function convertToInteractive(key) {\n",
              "          const element = document.querySelector('#df-1daec24d-8210-4c4d-857e-6fdc37f7784d');\n",
              "          const dataTable =\n",
              "            await google.colab.kernel.invokeFunction('convertToInteractive',\n",
              "                                                     [key], {});\n",
              "          if (!dataTable) return;\n",
              "\n",
              "          const docLinkHtml = 'Like what you see? Visit the ' +\n",
              "            '<a target=\"_blank\" href=https://colab.research.google.com/notebooks/data_table.ipynb>data table notebook</a>'\n",
              "            + ' to learn more about interactive tables.';\n",
              "          element.innerHTML = '';\n",
              "          dataTable['output_type'] = 'display_data';\n",
              "          await google.colab.output.renderOutput(dataTable, element);\n",
              "          const docLink = document.createElement('div');\n",
              "          docLink.innerHTML = docLinkHtml;\n",
              "          element.appendChild(docLink);\n",
              "        }\n",
              "      </script>\n",
              "    </div>\n",
              "  </div>\n",
              "  "
            ]
          },
          "metadata": {},
          "execution_count": 167
        }
      ]
    },
    {
      "cell_type": "markdown",
      "source": [
        "##**Feature Selection**\n"
      ],
      "metadata": {
        "id": "ruvKmUkxbq2l"
      }
    },
    {
      "cell_type": "code",
      "source": [
        "#For numerical input variables and numerical output, we use Pearson's method for feature selection\n",
        "from sklearn.feature_selection import SelectKBest\n",
        "from sklearn.feature_selection import f_regression"
      ],
      "metadata": {
        "id": "LW81qSWkcBk-"
      },
      "execution_count": 168,
      "outputs": []
    },
    {
      "cell_type": "code",
      "source": [
        "fs = SelectKBest(score_func=f_regression, k='all')\n",
        "fs.fit(X, y)\n"
      ],
      "metadata": {
        "colab": {
          "base_uri": "https://localhost:8080/"
        },
        "id": "60IBcEowcUeM",
        "outputId": "1fdf0623-5089-409f-be29-1ae64e9ec776"
      },
      "execution_count": 169,
      "outputs": [
        {
          "output_type": "execute_result",
          "data": {
            "text/plain": [
              "SelectKBest(k='all', score_func=<function f_regression at 0x7f6d06ff6680>)"
            ]
          },
          "metadata": {},
          "execution_count": 169
        }
      ]
    },
    {
      "cell_type": "code",
      "source": [
        "feature_contribution=(fs.scores_/sum(fs.scores_))*100\n"
      ],
      "metadata": {
        "id": "hbl6xw2QcZWU"
      },
      "execution_count": 170,
      "outputs": []
    },
    {
      "cell_type": "markdown",
      "source": [
        "**Feature contribution graph**"
      ],
      "metadata": {
        "id": "NH5-gN1gcc3u"
      }
    },
    {
      "cell_type": "code",
      "source": [
        "for i,j in enumerate(X.columns):\n",
        "    print(f'{j} : {feature_contribution[i]:.2f}%')\n",
        "plt.figure(figsize=(12,6))\n",
        "sns.barplot(x=X.columns,y=fs.scores_)\n",
        "plt.show()"
      ],
      "metadata": {
        "colab": {
          "base_uri": "https://localhost:8080/",
          "height": 653
        },
        "id": "GEgckWwScg6r",
        "outputId": "a12240e8-26e6-4de4-ab4d-6dcad20dea66"
      },
      "execution_count": 171,
      "outputs": [
        {
          "output_type": "stream",
          "name": "stdout",
          "text": [
            "Humidity(%) : 1.13%\n",
            "Wind speed (m/s) : 0.06%\n",
            "Visibility (10m) : 0.05%\n",
            "Solar Radiation (MJ/m2) : 6.17%\n",
            "Rainfall(mm) : 0.11%\n",
            "Snowfall (cm) : 2.17%\n",
            "Month : 2.12%\n",
            "Day : 0.01%\n",
            "Seasons_Spring : 0.00%\n",
            "Seasons_Summer : 34.43%\n",
            "Seasons_Winter : 51.92%\n",
            "Holiday_No Holiday : 0.14%\n",
            "Functioning Day_Yes : 0.11%\n",
            "2ndhalf : 0.25%\n",
            "3rdhalf : 1.33%\n",
            "4thhalf : 0.02%\n"
          ]
        },
        {
          "output_type": "display_data",
          "data": {
            "text/plain": [
              "<Figure size 864x432 with 1 Axes>"
            ],
            "image/png": "[encoded data removed]"
          },
          "metadata": {
            "needs_background": "light"
          }
        }
      ]
    },
    {
      "cell_type": "markdown",
      "source": [
        "\n",
        "\n",
        "*   We see summer and winter season variables have the highest contribution with 34% and 51% respectively.\n",
        "*   This is quite obvious practically as in summers and winters the demand for bikes increase as compared to any other seasons.\n",
        "\n"
      ],
      "metadata": {
        "id": "OSRk087cc2b-"
      }
    },
    {
      "cell_type": "code",
      "source": [
        "X=bikeData.iloc[:,2:]\n",
        "y=bikeData.iloc[:,1]\n"
      ],
      "metadata": {
        "id": "4LQJHnd7sr5U"
      },
      "execution_count": 172,
      "outputs": []
    },
    {
      "cell_type": "code",
      "source": [
        "X.columns"
      ],
      "metadata": {
        "colab": {
          "base_uri": "https://localhost:8080/"
        },
        "id": "7AuAwV-Fret_",
        "outputId": "f9cceb4d-5734-45cc-8395-8764890974f5"
      },
      "execution_count": 173,
      "outputs": [
        {
          "output_type": "execute_result",
          "data": {
            "text/plain": [
              "Index(['Humidity(%)', 'Wind speed (m/s)', 'Visibility (10m)',\n",
              "       'Solar Radiation (MJ/m2)', 'Rainfall(mm)', 'Snowfall (cm)', 'Month',\n",
              "       'Day', 'Seasons_Spring', 'Seasons_Summer', 'Seasons_Winter',\n",
              "       'Holiday_No Holiday', 'Functioning Day_Yes', '2ndhalf', '3rdhalf',\n",
              "       '4thhalf'],\n",
              "      dtype='object')"
            ]
          },
          "metadata": {},
          "execution_count": 173
        }
      ]
    },
    {
      "cell_type": "markdown",
      "source": [
        "**splitting our dataset to train-test set**"
      ],
      "metadata": {
        "id": "_xo3HOB8s2xF"
      }
    },
    {
      "cell_type": "code",
      "source": [
        "from sklearn.model_selection import train_test_split\n",
        "#splitting our dataset in 80% training and 20% testset\n",
        "X_train,X_test,y_train,y_test=train_test_split(X,y,test_size=0.30,random_state=0)"
      ],
      "metadata": {
        "id": "f-jcF0m7tJzI"
      },
      "execution_count": 174,
      "outputs": []
    },
    {
      "cell_type": "code",
      "source": [
        "#Next we go for feature scaling. We implement Standardization\n",
        "from sklearn.preprocessing import StandardScaler\n",
        "sc=StandardScaler()\n",
        "X_train=sc.fit_transform(X_train)\n",
        "X_test=sc.transform(X_test)"
      ],
      "metadata": {
        "id": "nYiS78Zgvzz1"
      },
      "execution_count": 175,
      "outputs": []
    },
    {
      "cell_type": "markdown",
      "source": [
        "##**Modelling**"
      ],
      "metadata": {
        "id": "9exjol4lwKTn"
      }
    },
    {
      "cell_type": "code",
      "source": [
        "#importing different Regression models\n",
        "from sklearn.linear_model import LinearRegression\n",
        "from sklearn.metrics import r2_score\n",
        "from sklearn.metrics import mean_squared_error\n",
        "import xgboost as xgb\n",
        "from sklearn.tree import DecisionTreeRegressor\n",
        "from sklearn.ensemble import RandomForestRegressor\n",
        "from sklearn.ensemble import BaggingRegressor\n",
        "from sklearn.ensemble import StackingRegressor\n",
        "from sklearn.model_selection import cross_val_score"
      ],
      "metadata": {
        "id": "6cdLkX9rwRIt"
      },
      "execution_count": 176,
      "outputs": []
    },
    {
      "cell_type": "code",
      "source": [
        "# We create a dictionary to store different model's evaluation metrics for ease of comparison\n",
        "model_comparison={}"
      ],
      "metadata": {
        "id": "YxLqSryFQ90_"
      },
      "execution_count": 177,
      "outputs": []
    },
    {
      "cell_type": "markdown",
      "source": [
        "Evaluation Metrics used for models:\n",
        "Here are some metrics used in our project\n",
        "1. R Square\n",
        "\n",
        "2. Mean Square Error(MSE) and Root Mean Square Error(RMSE)\n",
        "\n",
        "3. Cross Validation accuracy and standard deviation\n",
        "\n",
        "R Square measures how much variability in dependent variable can be explained \n",
        "by the model. It is the square of the Correlation Coefficient(R) and that is why it is called R Square. R Square is calculated by the sum of squared of prediction error divided by the total sum of the square which replaces the calculated prediction with mean. R Square value is between 0 to 1 and a bigger value indicates a better fit between prediction and actual value.\n",
        "\n",
        "MSE is calculated by the sum of square of prediction error which is real output minus predicted output and then divide by the number of data points. It gives you an absolute number on how much your predicted results deviate from the actual number. You cannot interpret many insights from one single result but it gives you a real number to compare against other model results and help you select the best regression model.\n",
        "\n",
        "Cross-validation is primarily used in applied machine learning to estimate the skill of a machine learning model on unseen data. That is, to use a limited sample in order to estimate how the model is expected to perform in general when used to make predictions on data not used during the training of the model.\n",
        "\n",
        "\n",
        "\n"
      ],
      "metadata": {
        "id": "NYoRE03YR_hC"
      }
    },
    {
      "cell_type": "markdown",
      "source": [
        "Linear Regression"
      ],
      "metadata": {
        "id": "YYbWgNC4LExi"
      }
    },
    {
      "cell_type": "code",
      "source": [
        "model=LinearRegression()\n",
        "model.fit(X_train,y_train)\n",
        "y_pred=model.predict(X_test)\n",
        "print(f\"Model R-Square : {r2_score(y_test,y_pred)*100:.2f}%\")\n",
        "print(f\"Model MSE : {mean_squared_error(y_test,y_pred):.2f}\")\n",
        "print(f\"Model RMSE: {np.sqrt(mean_squared_error(y_test,y_pred)):.2f}\")\n",
        "accuracies = cross_val_score(estimator = model, X = X_train, y = y_train, cv = 5)\n",
        "print(\"Cross Val Accuracy: {:.2f} %\".format(accuracies.mean()*100))\n",
        "print(\"Cross Val Standard Deviation: {:.2f} %\".format(accuracies.std()*100))\n",
        "model_comparison['Linear Regression']=[r2_score(y_test,y_pred),mean_squared_error(y_test,y_pred),np.sqrt(mean_squared_error(y_test,y_pred)),(accuracies.mean()),(accuracies.std())]"
      ],
      "metadata": {
        "colab": {
          "base_uri": "https://localhost:8080/"
        },
        "id": "0aGQAIvINuTR",
        "outputId": "011f6f6a-b738-48d5-812f-074dfa7a7814"
      },
      "execution_count": 178,
      "outputs": [
        {
          "output_type": "stream",
          "name": "stdout",
          "text": [
            "Model R-Square : 80.67%\n",
            "Model MSE : 27.17\n",
            "Model RMSE: 5.21\n",
            "Cross Val Accuracy: 80.97 %\n",
            "Cross Val Standard Deviation: 0.63 %\n"
          ]
        }
      ]
    },
    {
      "cell_type": "code",
      "source": [
        "# We must also check if our model is overfitting. We calculate the R2 score for train set as well.\n",
        "y_pred=model.predict(X_train)\n",
        "r2_score(y_train,y_pred)"
      ],
      "metadata": {
        "colab": {
          "base_uri": "https://localhost:8080/"
        },
        "id": "rtVEtkuguE_y",
        "outputId": "a3727a8c-4442-4327-89b7-dcd0418de527"
      },
      "execution_count": 179,
      "outputs": [
        {
          "output_type": "execute_result",
          "data": {
            "text/plain": [
              "0.8105416526320484"
            ]
          },
          "metadata": {},
          "execution_count": 179
        }
      ]
    },
    {
      "cell_type": "markdown",
      "source": [
        "Decision Tree"
      ],
      "metadata": {
        "id": "dRCRGlr2cmB9"
      }
    },
    {
      "cell_type": "code",
      "source": [
        "model=DecisionTreeRegressor()\n",
        "model.fit(X_train,y_train)\n",
        "y_pred=model.predict(X_test)\n",
        "print(f\"Model R-Square : {r2_score(y_test,y_pred)*100:.2f}%\")\n",
        "print(f\"Model MSE : {mean_squared_error(y_test,y_pred)*100:.2f}\")\n",
        "print(f\"Model RMSE: {np.sqrt(mean_squared_error(y_test,y_pred)):.2f}\")\n",
        "accuracies = cross_val_score(estimator = model, X = X_train, y = y_train, cv = 5)\n",
        "print(\"Cross Val Accuracy: {:.2f} %\".format(accuracies.mean()*100))\n",
        "print(\"Cross Val Standard Deviation: {:.2f} %\".format(accuracies.std()*100))\n",
        "model_comparison['Decision Tree Regression']=[r2_score(y_test,y_pred),mean_squared_error(y_test,y_pred),np.sqrt(mean_squared_error(y_test,y_pred)),(accuracies.mean()),(accuracies.std())]"
      ],
      "metadata": {
        "colab": {
          "base_uri": "https://localhost:8080/"
        },
        "id": "2-mdSTgxcnUL",
        "outputId": "7e989881-1151-4bce-b710-07550f36c727"
      },
      "execution_count": 180,
      "outputs": [
        {
          "output_type": "stream",
          "name": "stdout",
          "text": [
            "Model R-Square : 97.04%\n",
            "Model MSE : 415.30\n",
            "Model RMSE: 2.04\n",
            "Cross Val Accuracy: 96.72 %\n",
            "Cross Val Standard Deviation: 0.34 %\n"
          ]
        }
      ]
    },
    {
      "cell_type": "code",
      "source": [
        "# We must also check if our model is overfitting. We calculate the R2 score for train set as well.\n",
        "y_pred=model.predict(X_train)\n",
        "r2_score(y_train,y_pred)"
      ],
      "metadata": {
        "colab": {
          "base_uri": "https://localhost:8080/"
        },
        "id": "gV4_oTBzez5e",
        "outputId": "11bfca40-a7a2-4393-e593-1c782e1639c3"
      },
      "execution_count": 181,
      "outputs": [
        {
          "output_type": "execute_result",
          "data": {
            "text/plain": [
              "0.9999938589823988"
            ]
          },
          "metadata": {},
          "execution_count": 181
        }
      ]
    },
    {
      "cell_type": "markdown",
      "source": [
        "From the R2 score of train and test set, we can see that our model is performing well on both the sets hence it's not overfitting. "
      ],
      "metadata": {
        "id": "2cQeHv2VfTqR"
      }
    },
    {
      "cell_type": "markdown",
      "source": [
        "Random Forest Regression"
      ],
      "metadata": {
        "id": "ernzSNEEffg3"
      }
    },
    {
      "cell_type": "code",
      "source": [
        "model=RandomForestRegressor(n_estimators=10,random_state=0)\n",
        "model.fit(X_train,y_train)\n",
        "y_pred=model.predict(X_test)\n",
        "print(f\"Model R-Square : {r2_score(y_test,y_pred)*100:.2f}%\")\n",
        "print(f\"Model MSE : {mean_squared_error(y_test,y_pred)*100:.2f}\")\n",
        "print(f\"Model RMSE: {np.sqrt(mean_squared_error(y_test,y_pred)):.2f}\")\n",
        "accuracies = cross_val_score(estimator = model, X = X_train, y = y_train, cv = 5)\n",
        "print(\"Cross Val Accuracy: {:.2f} %\".format(accuracies.mean()*100))\n",
        "print(\"Cross Val Standard Deviation: {:.2f} %\".format(accuracies.std()*100))\n",
        "model_comparison['Random forest Regression']=[r2_score(y_test,y_pred),mean_squared_error(y_test,y_pred),np.sqrt(mean_squared_error(y_test,y_pred)),(accuracies.mean()),(accuracies.std())]"
      ],
      "metadata": {
        "colab": {
          "base_uri": "https://localhost:8080/"
        },
        "id": "wrSwF8e4feSu",
        "outputId": "72ef18a0-1a36-4026-c864-6d97f6faad1b"
      },
      "execution_count": 182,
      "outputs": [
        {
          "output_type": "stream",
          "name": "stdout",
          "text": [
            "Model R-Square : 98.14%\n",
            "Model MSE : 261.40\n",
            "Model RMSE: 1.62\n",
            "Cross Val Accuracy: 97.94 %\n",
            "Cross Val Standard Deviation: 0.14 %\n"
          ]
        }
      ]
    },
    {
      "cell_type": "code",
      "source": [
        "# We must also check if our model is overfitting. We calculate the R2 score for train set as well.\n",
        "y_pred=model.predict(X_train)\n",
        "r2_score(y_train,y_pred)"
      ],
      "metadata": {
        "colab": {
          "base_uri": "https://localhost:8080/"
        },
        "id": "6ngVACYFfxIR",
        "outputId": "bf8220a6-cb97-4587-ea4a-645a6ea6f689"
      },
      "execution_count": 183,
      "outputs": [
        {
          "output_type": "execute_result",
          "data": {
            "text/plain": [
              "0.996779906144704"
            ]
          },
          "metadata": {},
          "execution_count": 183
        }
      ]
    },
    {
      "cell_type": "markdown",
      "source": [
        "Here too, we see the model is performing well on train and test sets hence no overfitting"
      ],
      "metadata": {
        "id": "TbvROccHf1EY"
      }
    },
    {
      "cell_type": "markdown",
      "source": [
        "Bagging Regressor"
      ],
      "metadata": {
        "id": "Ijt_fGgHhf7X"
      }
    },
    {
      "cell_type": "code",
      "source": [
        "from sklearn.ensemble import BaggingRegressor\n",
        "model= BaggingRegressor(RandomForestRegressor(n_estimators=10,random_state=0),random_state=0)\n",
        "model.fit(X_train, y_train)\n",
        "y_pred=model.predict(X_test)\n",
        "print(f\"Model R-Square : {r2_score(y_test,y_pred)*100:.2f}%\")\n",
        "print(f\"Model MSE : {mean_squared_error(y_test,y_pred)*100:.2f}\")\n",
        "print(f\"Model RMSE: {np.sqrt(mean_squared_error(y_test,y_pred)):.2f}\")\n",
        "accuracies = cross_val_score(estimator = model, X = X_train, y = y_train, cv = 5)\n",
        "print(\"Cross Val Accuracy: {:.2f} %\".format(accuracies.mean()*100))\n",
        "print(\"Cross Val Standard Deviation: {:.2f} %\".format(accuracies.std()*100))\n",
        "model_comparison['Bagging Regressor']=[r2_score(y_test,y_pred),mean_squared_error(y_test,y_pred),np.sqrt(mean_squared_error(y_test,y_pred)),(accuracies.mean()),(accuracies.std())]"
      ],
      "metadata": {
        "colab": {
          "base_uri": "https://localhost:8080/"
        },
        "id": "tVM9sV8CkB9e",
        "outputId": "421b17a6-715e-49c9-da9c-d082e10f9aa3"
      },
      "execution_count": 184,
      "outputs": [
        {
          "output_type": "stream",
          "name": "stdout",
          "text": [
            "Model R-Square : 97.87%\n",
            "Model MSE : 299.06\n",
            "Model RMSE: 1.73\n",
            "Cross Val Accuracy: 97.75 %\n",
            "Cross Val Standard Deviation: 0.08 %\n"
          ]
        }
      ]
    },
    {
      "cell_type": "code",
      "source": [
        "# We must also check if our model is overfitting. We calculate the R2 score for train set as well.\n",
        "y_pred=model.predict(X_train)\n",
        "r2_score(y_train,y_pred)"
      ],
      "metadata": {
        "colab": {
          "base_uri": "https://localhost:8080/"
        },
        "id": "SXV5sKKGkLuK",
        "outputId": "67218afe-806a-4091-9849-e56221101030"
      },
      "execution_count": 185,
      "outputs": [
        {
          "output_type": "execute_result",
          "data": {
            "text/plain": [
              "0.9927859991357898"
            ]
          },
          "metadata": {},
          "execution_count": 185
        }
      ]
    },
    {
      "cell_type": "markdown",
      "source": [
        "XG Boost Regression"
      ],
      "metadata": {
        "id": "1RYk6IEEweRD"
      }
    },
    {
      "cell_type": "code",
      "source": [
        "model = xgb.XGBRegressor(verbosity=0)\n",
        "model.fit(X_train, y_train)\n",
        "y_pred=model.predict(X_test)\n",
        "print(f\"Model R-Square : {r2_score(y_test,y_pred)*100:.2f}%\")\n",
        "print(f\"Model MSE : {mean_squared_error(y_test,y_pred)*100:.2f}\")\n",
        "print(f\"Model RMSE: {np.sqrt(mean_squared_error(y_test,y_pred)):.2f}\")\n",
        "accuracies = cross_val_score(estimator = model, X = X_train, y = y_train, cv = 5)\n",
        "print(\"Cross Val Accuracy: {:.2f} %\".format(accuracies.mean()*100))\n",
        "print(\"Cross Val Standard Deviation: {:.2f} %\".format(accuracies.std()*100))\n",
        "model_comparison['XG Boost']=[r2_score(y_test,y_pred),mean_squared_error(y_test,y_pred),np.sqrt(mean_squared_error(y_test,y_pred)),(accuracies.mean()),(accuracies.std())]"
      ],
      "metadata": {
        "colab": {
          "base_uri": "https://localhost:8080/"
        },
        "id": "MdEWV6xEmFw_",
        "outputId": "f10bf4e3-002b-456f-990f-65f7123f28ca"
      },
      "execution_count": 186,
      "outputs": [
        {
          "output_type": "stream",
          "name": "stdout",
          "text": [
            "Model R-Square : 94.92%\n",
            "Model MSE : 713.66\n",
            "Model RMSE: 2.67\n",
            "Cross Val Accuracy: 94.72 %\n",
            "Cross Val Standard Deviation: 0.18 %\n"
          ]
        }
      ]
    },
    {
      "cell_type": "code",
      "source": [
        "# We must also check if our model is overfitting. We calculate the R2 score for train set as well.\n",
        "y_pred=model.predict(X_train)\n",
        "r2_score(y_train,y_pred)"
      ],
      "metadata": {
        "colab": {
          "base_uri": "https://localhost:8080/"
        },
        "id": "rp-QHyB4v7Y8",
        "outputId": "460c3d0a-ecd2-44b1-b185-31a37938ffd6"
      },
      "execution_count": 187,
      "outputs": [
        {
          "output_type": "execute_result",
          "data": {
            "text/plain": [
              "0.9523904787105998"
            ]
          },
          "metadata": {},
          "execution_count": 187
        }
      ]
    },
    {
      "cell_type": "markdown",
      "source": [
        "Stacking Regression"
      ],
      "metadata": {
        "id": "-slGHtOZwhD6"
      }
    },
    {
      "cell_type": "code",
      "source": [
        "estimators=[('linear regression',LinearRegression()),('Decision Tree',DecisionTreeRegressor()),('random forest',RandomForestRegressor(n_estimators=10,random_state=0)),('bagging',BaggingRegressor(RandomForestRegressor(n_estimators=10,random_state=0),random_state=0))]"
      ],
      "metadata": {
        "id": "MfLvSXI8w1GJ"
      },
      "execution_count": 188,
      "outputs": []
    },
    {
      "cell_type": "code",
      "source": [
        "model=StackingRegressor(estimators=estimators,final_estimator=LinearRegression(),passthrough=True)\n",
        "model.fit(X_train, y_train)\n",
        "y_pred=model.predict(X_test)\n",
        "print(f\"Model R-Square : {r2_score(y_test,y_pred)*100:.2f}%\")\n",
        "print(f\"Model MSE : {mean_squared_error(y_test,y_pred)*100:.2f}\")\n",
        "print(f\"Model RMSE: {np.sqrt(mean_squared_error(y_test,y_pred)):.2f}\")\n",
        "accuracies = cross_val_score(estimator = model, X = X_train, y = y_train, cv = 5)\n",
        "print(\"Cross Val Accuracy: {:.2f} %\".format(accuracies.mean()*100))\n",
        "print(\"Cross Val Standard Deviation: {:.2f} %\".format(accuracies.std()*100))\n",
        "model_comparison['Stacking Regressor']=[r2_score(y_test,y_pred),mean_squared_error(y_test,y_pred),np.sqrt(mean_squared_error(y_test,y_pred)),(accuracies.mean()),(accuracies.std())]"
      ],
      "metadata": {
        "colab": {
          "base_uri": "https://localhost:8080/"
        },
        "id": "ENFrIqm4w4lr",
        "outputId": "47c3e390-7f03-4493-c8d3-198fdcd2f4ff"
      },
      "execution_count": 192,
      "outputs": [
        {
          "output_type": "stream",
          "name": "stdout",
          "text": [
            "Model R-Square : 98.29%\n",
            "Model MSE : 239.83\n",
            "Model RMSE: 1.55\n",
            "Cross Val Accuracy: 98.17 %\n",
            "Cross Val Standard Deviation: 0.09 %\n"
          ]
        }
      ]
    },
    {
      "cell_type": "code",
      "source": [
        "# We must also check if our model is overfitting. We calculate the R2 score for train set as well.\n",
        "y_pred=model.predict(X_train)\n",
        "r2_score(y_train,y_pred)"
      ],
      "metadata": {
        "colab": {
          "base_uri": "https://localhost:8080/"
        },
        "id": "ernN5uYGyvop",
        "outputId": "e7a8a8c1-fe50-4515-d99b-e4b6be0fa52a"
      },
      "execution_count": 190,
      "outputs": [
        {
          "output_type": "execute_result",
          "data": {
            "text/plain": [
              "0.9973021860816313"
            ]
          },
          "metadata": {},
          "execution_count": 190
        }
      ]
    },
    {
      "cell_type": "code",
      "source": [
        "# Calculating RMPSE for Stacking Regressor\n",
        "rmse=np.sqrt(mean_squared_error(y_test,y_pred))\n",
        "print(f\"The RMSE of the model is: {rmse}\")\n",
        "print(f\"The mean of dependent variable y is: {y.mean()}\")\n",
        "rmpse=rmse/y.mean()\n",
        "print(f\"Therefore, the RMPSE is: {rmpse*100:.2f}%\")\n"
      ],
      "metadata": {
        "colab": {
          "base_uri": "https://localhost:8080/"
        },
        "id": "rAaAb7ezIVQE",
        "outputId": "54f4d2b2-3813-4285-b7b6-8fadbb890dfd"
      },
      "execution_count": 193,
      "outputs": [
        {
          "output_type": "stream",
          "name": "stdout",
          "text": [
            "The RMSE of the model is: 1.5486469488405241\n",
            "The mean of dependent variable y is: 12.882922374429223\n",
            "Therefore, the RMPSE is: 12.02%\n"
          ]
        }
      ]
    },
    {
      "cell_type": "markdown",
      "source": [
        "##**Model comparison**"
      ],
      "metadata": {
        "id": "KbiAWWeM4Xk8"
      }
    },
    {
      "cell_type": "code",
      "source": [
        "# After implementing various models, we compare the evaluation metrics of different models to decide the best model\n",
        "Model_com_df=pd.DataFrame(model_comparison).T\n",
        "Model_com_df.columns=['R-Square','MSE','RMSE','CV Accuracy','CV std']\n",
        "Model_com_df=Model_com_df.sort_values(by='R-Square',ascending=False)\n",
        "Model_com_df.style.format(\"{:.2}\").background_gradient(cmap='RdYlBu_r')"
      ],
      "metadata": {
        "colab": {
          "base_uri": "https://localhost:8080/",
          "height": 237
        },
        "id": "MDpKSt9f4qme",
        "outputId": "ecd9d709-7651-42d6-dad9-fe329eca3fef"
      },
      "execution_count": 194,
      "outputs": [
        {
          "output_type": "execute_result",
          "data": {
            "text/plain": [
              "<pandas.io.formats.style.Styler at 0x7f6d06616350>"
            ],
            "text/html": [
              "<style type=\"text/css\">\n",
              "#T_7bc49_row0_col0, #T_7bc49_row0_col3, #T_7bc49_row5_col1, #T_7bc49_row5_col2, #T_7bc49_row5_col4 {\n",
              "  background-color: #a50026;\n",
              "  color: #f1f1f1;\n",
              "}\n",
              "#T_7bc49_row0_col1, #T_7bc49_row0_col2, #T_7bc49_row2_col4, #T_7bc49_row5_col0, #T_7bc49_row5_col3 {\n",
              "  background-color: #313695;\n",
              "  color: #f1f1f1;\n",
              "}\n",
              "#T_7bc49_row0_col4, #T_7bc49_row1_col1 {\n",
              "  background-color: #333b97;\n",
              "  color: #f1f1f1;\n",
              "}\n",
              "#T_7bc49_row1_col0 {\n",
              "  background-color: #a90426;\n",
              "  color: #f1f1f1;\n",
              "}\n",
              "#T_7bc49_row1_col2 {\n",
              "  background-color: #34409a;\n",
              "  color: #f1f1f1;\n",
              "}\n",
              "#T_7bc49_row1_col3 {\n",
              "  background-color: #ab0626;\n",
              "  color: #f1f1f1;\n",
              "}\n",
              "#T_7bc49_row1_col4 {\n",
              "  background-color: #4471b2;\n",
              "  color: #f1f1f1;\n",
              "}\n",
              "#T_7bc49_row2_col0, #T_7bc49_row2_col3 {\n",
              "  background-color: #b10b26;\n",
              "  color: #f1f1f1;\n",
              "}\n",
              "#T_7bc49_row2_col1 {\n",
              "  background-color: #36459c;\n",
              "  color: #f1f1f1;\n",
              "}\n",
              "#T_7bc49_row2_col2 {\n",
              "  background-color: #3a54a4;\n",
              "  color: #f1f1f1;\n",
              "}\n",
              "#T_7bc49_row3_col0 {\n",
              "  background-color: #c82227;\n",
              "  color: #f1f1f1;\n",
              "}\n",
              "#T_7bc49_row3_col1 {\n",
              "  background-color: #3f62ab;\n",
              "  color: #f1f1f1;\n",
              "}\n",
              "#T_7bc49_row3_col2 {\n",
              "  background-color: #5588be;\n",
              "  color: #f1f1f1;\n",
              "}\n",
              "#T_7bc49_row3_col3 {\n",
              "  background-color: #ce2827;\n",
              "  color: #f1f1f1;\n",
              "}\n",
              "#T_7bc49_row3_col4 {\n",
              "  background-color: #f7fcce;\n",
              "  color: #000000;\n",
              "}\n",
              "#T_7bc49_row4_col0 {\n",
              "  background-color: #f16640;\n",
              "  color: #f1f1f1;\n",
              "}\n",
              "#T_7bc49_row4_col1 {\n",
              "  background-color: #6ea6ce;\n",
              "  color: #f1f1f1;\n",
              "}\n",
              "#T_7bc49_row4_col2 {\n",
              "  background-color: #aedbea;\n",
              "  color: #000000;\n",
              "}\n",
              "#T_7bc49_row4_col3 {\n",
              "  background-color: #f46d43;\n",
              "  color: #f1f1f1;\n",
              "}\n",
              "#T_7bc49_row4_col4 {\n",
              "  background-color: #6ba2cb;\n",
              "  color: #f1f1f1;\n",
              "}\n",
              "</style>\n",
              "<table id=\"T_7bc49_\" class=\"dataframe\">\n",
              "  <thead>\n",
              "    <tr>\n",
              "      <th class=\"blank level0\" >&nbsp;</th>\n",
              "      <th class=\"col_heading level0 col0\" >R-Square</th>\n",
              "      <th class=\"col_heading level0 col1\" >MSE</th>\n",
              "      <th class=\"col_heading level0 col2\" >RMSE</th>\n",
              "      <th class=\"col_heading level0 col3\" >CV Accuracy</th>\n",
              "      <th class=\"col_heading level0 col4\" >CV std</th>\n",
              "    </tr>\n",
              "  </thead>\n",
              "  <tbody>\n",
              "    <tr>\n",
              "      <th id=\"T_7bc49_level0_row0\" class=\"row_heading level0 row0\" >Stacking Regressor</th>\n",
              "      <td id=\"T_7bc49_row0_col0\" class=\"data row0 col0\" >0.98</td>\n",
              "      <td id=\"T_7bc49_row0_col1\" class=\"data row0 col1\" >2.4</td>\n",
              "      <td id=\"T_7bc49_row0_col2\" class=\"data row0 col2\" >1.5</td>\n",
              "      <td id=\"T_7bc49_row0_col3\" class=\"data row0 col3\" >0.98</td>\n",
              "      <td id=\"T_7bc49_row0_col4\" class=\"data row0 col4\" >0.00089</td>\n",
              "    </tr>\n",
              "    <tr>\n",
              "      <th id=\"T_7bc49_level0_row1\" class=\"row_heading level0 row1\" >Random forest Regression</th>\n",
              "      <td id=\"T_7bc49_row1_col0\" class=\"data row1 col0\" >0.98</td>\n",
              "      <td id=\"T_7bc49_row1_col1\" class=\"data row1 col1\" >2.6</td>\n",
              "      <td id=\"T_7bc49_row1_col2\" class=\"data row1 col2\" >1.6</td>\n",
              "      <td id=\"T_7bc49_row1_col3\" class=\"data row1 col3\" >0.98</td>\n",
              "      <td id=\"T_7bc49_row1_col4\" class=\"data row1 col4\" >0.0014</td>\n",
              "    </tr>\n",
              "    <tr>\n",
              "      <th id=\"T_7bc49_level0_row2\" class=\"row_heading level0 row2\" >Bagging Regressor</th>\n",
              "      <td id=\"T_7bc49_row2_col0\" class=\"data row2 col0\" >0.98</td>\n",
              "      <td id=\"T_7bc49_row2_col1\" class=\"data row2 col1\" >3.0</td>\n",
              "      <td id=\"T_7bc49_row2_col2\" class=\"data row2 col2\" >1.7</td>\n",
              "      <td id=\"T_7bc49_row2_col3\" class=\"data row2 col3\" >0.98</td>\n",
              "      <td id=\"T_7bc49_row2_col4\" class=\"data row2 col4\" >0.00083</td>\n",
              "    </tr>\n",
              "    <tr>\n",
              "      <th id=\"T_7bc49_level0_row3\" class=\"row_heading level0 row3\" >Decision Tree Regression</th>\n",
              "      <td id=\"T_7bc49_row3_col0\" class=\"data row3 col0\" >0.97</td>\n",
              "      <td id=\"T_7bc49_row3_col1\" class=\"data row3 col1\" >4.2</td>\n",
              "      <td id=\"T_7bc49_row3_col2\" class=\"data row3 col2\" >2.0</td>\n",
              "      <td id=\"T_7bc49_row3_col3\" class=\"data row3 col3\" >0.97</td>\n",
              "      <td id=\"T_7bc49_row3_col4\" class=\"data row3 col4\" >0.0034</td>\n",
              "    </tr>\n",
              "    <tr>\n",
              "      <th id=\"T_7bc49_level0_row4\" class=\"row_heading level0 row4\" >XG Boost</th>\n",
              "      <td id=\"T_7bc49_row4_col0\" class=\"data row4 col0\" >0.95</td>\n",
              "      <td id=\"T_7bc49_row4_col1\" class=\"data row4 col1\" >7.1</td>\n",
              "      <td id=\"T_7bc49_row4_col2\" class=\"data row4 col2\" >2.7</td>\n",
              "      <td id=\"T_7bc49_row4_col3\" class=\"data row4 col3\" >0.95</td>\n",
              "      <td id=\"T_7bc49_row4_col4\" class=\"data row4 col4\" >0.0018</td>\n",
              "    </tr>\n",
              "    <tr>\n",
              "      <th id=\"T_7bc49_level0_row5\" class=\"row_heading level0 row5\" >Linear Regression</th>\n",
              "      <td id=\"T_7bc49_row5_col0\" class=\"data row5 col0\" >0.81</td>\n",
              "      <td id=\"T_7bc49_row5_col1\" class=\"data row5 col1\" >2.7e+01</td>\n",
              "      <td id=\"T_7bc49_row5_col2\" class=\"data row5 col2\" >5.2</td>\n",
              "      <td id=\"T_7bc49_row5_col3\" class=\"data row5 col3\" >0.81</td>\n",
              "      <td id=\"T_7bc49_row5_col4\" class=\"data row5 col4\" >0.0063</td>\n",
              "    </tr>\n",
              "  </tbody>\n",
              "</table>\n"
            ]
          },
          "metadata": {},
          "execution_count": 194
        }
      ]
    },
    {
      "cell_type": "markdown",
      "source": [
        "**Maximum accuracies in each column**"
      ],
      "metadata": {
        "id": "2yRuHwKZ-uQm"
      }
    },
    {
      "cell_type": "code",
      "source": [
        "Model_com_df.style.highlight_max().set_caption(\"Maximum Score in each Column\").format(\"{:.2}\")"
      ],
      "metadata": {
        "colab": {
          "base_uri": "https://localhost:8080/",
          "height": 255
        },
        "id": "1671SqAaK6YQ",
        "outputId": "9ea40022-4bfe-4374-a521-3c7731a8ebbf"
      },
      "execution_count": 195,
      "outputs": [
        {
          "output_type": "execute_result",
          "data": {
            "text/plain": [
              "<pandas.io.formats.style.Styler at 0x7f6d06f473d0>"
            ],
            "text/html": [
              "<style type=\"text/css\">\n",
              "#T_68b62_row0_col0, #T_68b62_row0_col3, #T_68b62_row5_col1, #T_68b62_row5_col2, #T_68b62_row5_col4 {\n",
              "  background-color: yellow;\n",
              "}\n",
              "</style>\n",
              "<table id=\"T_68b62_\" class=\"dataframe\">\n",
              "  <caption>Maximum Score in each Column</caption>\n",
              "  <thead>\n",
              "    <tr>\n",
              "      <th class=\"blank level0\" >&nbsp;</th>\n",
              "      <th class=\"col_heading level0 col0\" >R-Square</th>\n",
              "      <th class=\"col_heading level0 col1\" >MSE</th>\n",
              "      <th class=\"col_heading level0 col2\" >RMSE</th>\n",
              "      <th class=\"col_heading level0 col3\" >CV Accuracy</th>\n",
              "      <th class=\"col_heading level0 col4\" >CV std</th>\n",
              "    </tr>\n",
              "  </thead>\n",
              "  <tbody>\n",
              "    <tr>\n",
              "      <th id=\"T_68b62_level0_row0\" class=\"row_heading level0 row0\" >Stacking Regressor</th>\n",
              "      <td id=\"T_68b62_row0_col0\" class=\"data row0 col0\" >0.98</td>\n",
              "      <td id=\"T_68b62_row0_col1\" class=\"data row0 col1\" >2.4</td>\n",
              "      <td id=\"T_68b62_row0_col2\" class=\"data row0 col2\" >1.5</td>\n",
              "      <td id=\"T_68b62_row0_col3\" class=\"data row0 col3\" >0.98</td>\n",
              "      <td id=\"T_68b62_row0_col4\" class=\"data row0 col4\" >0.00089</td>\n",
              "    </tr>\n",
              "    <tr>\n",
              "      <th id=\"T_68b62_level0_row1\" class=\"row_heading level0 row1\" >Random forest Regression</th>\n",
              "      <td id=\"T_68b62_row1_col0\" class=\"data row1 col0\" >0.98</td>\n",
              "      <td id=\"T_68b62_row1_col1\" class=\"data row1 col1\" >2.6</td>\n",
              "      <td id=\"T_68b62_row1_col2\" class=\"data row1 col2\" >1.6</td>\n",
              "      <td id=\"T_68b62_row1_col3\" class=\"data row1 col3\" >0.98</td>\n",
              "      <td id=\"T_68b62_row1_col4\" class=\"data row1 col4\" >0.0014</td>\n",
              "    </tr>\n",
              "    <tr>\n",
              "      <th id=\"T_68b62_level0_row2\" class=\"row_heading level0 row2\" >Bagging Regressor</th>\n",
              "      <td id=\"T_68b62_row2_col0\" class=\"data row2 col0\" >0.98</td>\n",
              "      <td id=\"T_68b62_row2_col1\" class=\"data row2 col1\" >3.0</td>\n",
              "      <td id=\"T_68b62_row2_col2\" class=\"data row2 col2\" >1.7</td>\n",
              "      <td id=\"T_68b62_row2_col3\" class=\"data row2 col3\" >0.98</td>\n",
              "      <td id=\"T_68b62_row2_col4\" class=\"data row2 col4\" >0.00083</td>\n",
              "    </tr>\n",
              "    <tr>\n",
              "      <th id=\"T_68b62_level0_row3\" class=\"row_heading level0 row3\" >Decision Tree Regression</th>\n",
              "      <td id=\"T_68b62_row3_col0\" class=\"data row3 col0\" >0.97</td>\n",
              "      <td id=\"T_68b62_row3_col1\" class=\"data row3 col1\" >4.2</td>\n",
              "      <td id=\"T_68b62_row3_col2\" class=\"data row3 col2\" >2.0</td>\n",
              "      <td id=\"T_68b62_row3_col3\" class=\"data row3 col3\" >0.97</td>\n",
              "      <td id=\"T_68b62_row3_col4\" class=\"data row3 col4\" >0.0034</td>\n",
              "    </tr>\n",
              "    <tr>\n",
              "      <th id=\"T_68b62_level0_row4\" class=\"row_heading level0 row4\" >XG Boost</th>\n",
              "      <td id=\"T_68b62_row4_col0\" class=\"data row4 col0\" >0.95</td>\n",
              "      <td id=\"T_68b62_row4_col1\" class=\"data row4 col1\" >7.1</td>\n",
              "      <td id=\"T_68b62_row4_col2\" class=\"data row4 col2\" >2.7</td>\n",
              "      <td id=\"T_68b62_row4_col3\" class=\"data row4 col3\" >0.95</td>\n",
              "      <td id=\"T_68b62_row4_col4\" class=\"data row4 col4\" >0.0018</td>\n",
              "    </tr>\n",
              "    <tr>\n",
              "      <th id=\"T_68b62_level0_row5\" class=\"row_heading level0 row5\" >Linear Regression</th>\n",
              "      <td id=\"T_68b62_row5_col0\" class=\"data row5 col0\" >0.81</td>\n",
              "      <td id=\"T_68b62_row5_col1\" class=\"data row5 col1\" >2.7e+01</td>\n",
              "      <td id=\"T_68b62_row5_col2\" class=\"data row5 col2\" >5.2</td>\n",
              "      <td id=\"T_68b62_row5_col3\" class=\"data row5 col3\" >0.81</td>\n",
              "      <td id=\"T_68b62_row5_col4\" class=\"data row5 col4\" >0.0063</td>\n",
              "    </tr>\n",
              "  </tbody>\n",
              "</table>\n"
            ]
          },
          "metadata": {},
          "execution_count": 195
        }
      ]
    },
    {
      "cell_type": "markdown",
      "source": [
        "#**Conclusion**\n",
        "\n",
        "Hence, from the model comparison chart we see that R2 score of Stacking Regressor, Random Forest and Bagging regressor models are the highest and most closer to 1 (=0.98) .R-Squared or the coefficient of determination is the most important important evaluation metric. It is a statistical measure in a regression model that determines the proportion of variance in the dependent variable that can be explained by the independent variable. In other words, r-squared shows how well the data fit the regression model. Of all the models implemented, we see the R2 score of three models are the same, so we see the next evaluation parameter, MSE and RMSE. \n",
        "\n",
        "MSE and RMSE don't provide insights individually, i.e just by looking at the number we can't conclude anything about the model. Rather its a comparison metric used to compare the performance of different models for the same data set. From the model comparison chart, we see that MSE and RMSE is minimum for Stacking Regressor model. Therefore, its the best model for our business problem. Also, RMPSE is 12% for the model which is quite acceptable.\n",
        "\n",
        "For the given problem, I've also calculated the cross validation accuracy and standard deviation. This involves simply repeating the cross-validation procedure multiple times and reporting the mean result across all folds from all runs. This mean result is expected to be a more accurate estimate of the true unknown underlying mean performance of the model on the dataset, as calculated using the standard error. We find the CV accuracy of Stacking Regressor to be 0.98 or 98% which is quite a good value.\n",
        "\n",
        "Therefore, Stacking Regressor is the best model for the given business problem"
      ],
      "metadata": {
        "id": "ysM4o17cLK7s"
      }
    }
  ]
}